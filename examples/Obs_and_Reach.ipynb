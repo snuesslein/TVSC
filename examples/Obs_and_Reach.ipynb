{
 "cells": [
  {
   "cell_type": "markdown",
   "metadata": {},
   "source": [
    "# Observability and reachability matrix"
   ]
  },
  {
   "cell_type": "code",
   "execution_count": null,
   "metadata": {},
   "outputs": [],
   "source": [
    "from tvsclib.strict_system import StrictSystem\n",
    "from tvsclib.stage import Stage\n",
    "from tvsclib.system_identification_svd import SystemIdentificationSVD\n",
    "from tvsclib.toeplitz_operator import ToeplitzOperator\n",
    "from tvsclib.mixed_system import MixedSystem\n",
    "import numpy as np\n",
    "import matplotlib.pyplot as plt\n",
    "import scipy.linalg as linalg\n",
    "\n",
    "import tvsclib.utils as utils"
   ]
  },
  {
   "cell_type": "markdown",
   "metadata": {},
   "source": [
    "The reachability matrix $\\mathcal{R}_k$ and observability matrix $\\mathcal{O}_k$ represent the mapping from the inputs to the state $x_k$ and from the state $x_k$ to the output. \n",
    "These matrices are related to the Hankel operator accoriding to\n",
    "\n",
    "$$H_k = \\mathcal{O}_k \\mathcal{R}_k $$\n",
    "\n",
    "\n",
    "These are matrices taken from the (strictly) upper or lower triangular blockmatrices as illustrated here:\n",
    "\n",
    "\n",
    "$$\n",
    "\\begin{bmatrix}\n",
    "\\begin{matrix}\n",
    "   D_1  \\\\\n",
    "\\end{matrix}&\n",
    "\\boxed{\\begin{matrix}\n",
    "   C_1B_2 & C_1A_2B_3 & C_1A_2A_3B_4\\\\\n",
    "\\end{matrix}}\n",
    "\\\\\n",
    "\\boxed{\\begin{matrix}\n",
    "   C_2B_1 \\\\\n",
    "   C_3A_2B_1 \\\\\n",
    "   C_4A_3A_2B_1  \n",
    "\\end{matrix}}&\n",
    "\\begin{matrix}\n",
    " D_2 &C_2B_3 & C_2A_3B_4 \\\\\n",
    " C_3B_2&  D_3 & C_3B_4 \\\\\n",
    " C_4A_3B_2 &  C_4B_3 & D_4\n",
    "\\end{matrix}\n",
    "\\end{bmatrix}\n",
    "\\quad\\quad\n",
    "\\begin{bmatrix}\n",
    "\\begin{matrix}\n",
    "   D_1 &  C_1B_2 \\\\\n",
    "   C_2B_1  & D_2\n",
    "\\end{matrix}&\n",
    "\\boxed{\\begin{matrix}\n",
    "   C_1A_2B_3 & C_1A_2A_3B_4\\\\\n",
    "   C_2B_3 & C_2A_3B_4\n",
    "\\end{matrix}}\n",
    "\\\\\n",
    "\\boxed{\\begin{matrix}\n",
    "   C_3A_2B_1 & C_3B_2 \\\\\n",
    "   C_4A_3A_2B_1 & C_4A_3B_2\n",
    "\\end{matrix}}&\n",
    "\\begin{matrix}\n",
    "   D_3 & C_3B_4 \\\\\n",
    "   C_4B_3 & D_4\n",
    "\\end{matrix}\n",
    "\\end{bmatrix}\n",
    "$$\n",
    "\n",
    "Lets illustrate this here with an rank one matrix. \n",
    "\n",
    "Here we will first only consider causal systems"
   ]
  },
  {
   "cell_type": "code",
   "execution_count": null,
   "metadata": {},
   "outputs": [],
   "source": [
    "matrix = np.arange(0,12).reshape((-1,1))@np.arange(0,12).reshape((1,-1))\n",
    "dims_in =  np.array([2, 1, 2, 1])*2\n",
    "dims_out = np.array([1, 2, 1, 2])*2\n",
    "T = ToeplitzOperator(matrix, dims_in, dims_out)\n",
    "S = SystemIdentificationSVD(T)#,epsilon=1e-6)\n",
    "system = MixedSystem(S).causal_system\n",
    "system_anti = MixedSystem(S).anticausal_system\n",
    "\n",
    "\n",
    "display(matrix)\n",
    "\n",
    "utils.show_system(system)\n",
    "plt.clim(0,11**2)"
   ]
  },
  {
   "cell_type": "markdown",
   "metadata": {},
   "source": [
    "Now we extract the hankel matrix for the timestep $k$ and display it"
   ]
  },
  {
   "cell_type": "code",
   "execution_count": null,
   "metadata": {},
   "outputs": [],
   "source": [
    "k =2\n",
    "# Number of input dims is the sum of the input dims up to the stage k (excluding k itself)\n",
    "d_in = np.sum(dims_in[:k])\n",
    "# Number of output dims is the sum of the output dims of stage k and up\n",
    "d_out = np.sum(dims_out[k:])\n",
    "\n",
    "#now extract the according matrix\n",
    "H_caus = matrix[np.sum(dims_out)-d_out:,:d_in] #indexing with negative indices does lead to problems in certian cases\n",
    "plt.matshow(H_caus)\n",
    "plt.clim(0,11**2)\n",
    "display(H_caus)"
   ]
  },
  {
   "cell_type": "markdown",
   "metadata": {},
   "source": [
    "Now we can check if $H_k = 𝓞_k 𝓡_k $"
   ]
  },
  {
   "cell_type": "code",
   "execution_count": null,
   "metadata": {},
   "outputs": [],
   "source": [
    "np.max(np.abs(H_caus-(system.observability_matrix(k)@system.reachability_matrix(k))))"
   ]
  },
  {
   "cell_type": "markdown",
   "metadata": {},
   "source": [
    "The same is possible for the anticausal part"
   ]
  },
  {
   "cell_type": "code",
   "execution_count": null,
   "metadata": {},
   "outputs": [],
   "source": [
    "k =0\n",
    "# Number of input dims is the sum of the input dims from the stage k (excluding k itself) up\n",
    "d_in = np.sum(dims_in[k+1:])\n",
    "# Number of output dims is the sum of the output dims of stage k and down\n",
    "d_out = np.sum(dims_out[:k+1])\n",
    "\n",
    "print(d_in)\n",
    "print(d_out)\n",
    "#now extract the according matrix\n",
    "H_anticaus = matrix[:d_out,np.sum(dims_in)-d_in:] \n",
    "#plt.matshow(H_2)\n",
    "#plt.clim(0,11**2)\n",
    "display(H_anticaus)"
   ]
  },
  {
   "cell_type": "code",
   "execution_count": null,
   "metadata": {},
   "outputs": [],
   "source": [
    "np.max(np.abs(H_anticaus-(system_anti.observability_matrix(k)@system_anti.reachability_matrix(k))))"
   ]
  },
  {
   "cell_type": "markdown",
   "metadata": {},
   "source": [
    "# Some notes on indexing\n",
    "\n",
    "Some notes to make the indexing more clear:\n",
    "\n",
    "As defined above the $H_k$, $𝓞_k$ and  $𝓡_k$ are defined by their relation to the state $x_k$.\n",
    "\n",
    "It is also important to note the definition for the casual system:\n",
    "\n",
    "$$x_{k+1} = A_k x_k + B_k u_k $$\n",
    "$$y_k = C_k x_k + D_k u_k $$\n",
    "\n",
    "\n",
    "This means that $C_k$ is part of $𝓞_k$ as it relates $x_k$ to the output.\n",
    "But $B_k$ is not part of $𝓡_k$ as it does not relate to $x_k$. \n",
    "\n",
    "\n",
    "For a causal system with $n$ stages we have $n+1$ involved stages. The first stage is the input stage $x_1$ or `x[0]`. This state has usually dim $0$.\n",
    "Then we have the internal stages.\n",
    "Finallly we have the output stage $x_{n+1}$ or `x[n]`.\n",
    "\n",
    "We can define $𝓞_k$ and $𝓡_k$ for all of these stages, but these have a 0 dim for the input and the output stage. \n",
    "Therefore only the internal states are usually interesting. These have the indices $2,3,4,\\cdots,n$ or `1,2,3, ... ,len(stages)-1`"
   ]
  },
  {
   "cell_type": "code",
   "execution_count": null,
   "metadata": {},
   "outputs": [],
   "source": [
    "iter = range(1,len(system.stages))\n",
    "for i in iter:\n",
    "    print(\"k=\",i)\n",
    "    display(system.reachability_matrix(i).shape)\n",
    "    display(system.observability_matrix(i).shape)"
   ]
  },
  {
   "cell_type": "markdown",
   "metadata": {},
   "source": [
    "For the anticausal system the definition is\n",
    "\n",
    "\n",
    "$$x_{k-1} = A_k x_k + B_k u_k $$\n",
    "$$y_k = C_k x_k + D_k u_k $$\n",
    "\n",
    "This leaves us with the input state $x_n$ or `x[n-1]` and the output state $x_{0}$ or `x[-1]`.\n",
    "Simmilarly to bevore the (usaully) intersting states are the internal states.\n",
    "\n",
    "These have the indices $n \\cdots,2,3,1$ or `len(stages)-2, ... ,2,1,0`\n",
    "\n"
   ]
  },
  {
   "cell_type": "code",
   "execution_count": null,
   "metadata": {},
   "outputs": [],
   "source": [
    "iter = range(len(system_anti.stages)-2,-1,-1)\n",
    "for i in iter:\n",
    "    print(\"k=\",i)\n",
    "    display(system_anti.reachability_matrix(i).shape)\n",
    "    display(system_anti.observability_matrix(i).shape)"
   ]
  },
  {
   "cell_type": "markdown",
   "metadata": {},
   "source": [
    "This also has the consequence that the indexing of the Hankel opertors is not symetric:\n",
    "\n",
    "In the following matrix the $H_3$ operator is marked:\n",
    "$$\n",
    "\\begin{bmatrix}\n",
    "\\begin{matrix}\n",
    "   D_1 &  C_1B_2 \\\\\n",
    "   C_2B_1  & D_2\n",
    "\\end{matrix}&\n",
    "\\begin{matrix}\n",
    "   C_1A_2B_3 & C_1A_2A_3B_4\\\\\n",
    "   C_2B_3 & C_2A_3B_4\n",
    "\\end{matrix}\n",
    "\\\\\n",
    "\\boxed{\\begin{matrix}\n",
    "   C_3A_2B_1 & C_3B_2 \\\\\n",
    "   C_4A_3A_2B_1 & C_4A_3B_2\n",
    "\\end{matrix}}&\n",
    "\\begin{matrix}\n",
    "   D_3 & C_3B_4 \\\\\n",
    "   C_4B_3 & D_4\n",
    "\\end{matrix}\n",
    "\\end{bmatrix}\n",
    "$$\n",
    "\n",
    "If we now go to the anticausal part we mark the symmetric part. Due to the inbalance of the indexing this is not the second Hankel operator but $H_2$:\n",
    "$$\n",
    "\\begin{bmatrix}\n",
    "\\begin{matrix}\n",
    "   D_1 &  C_1B_2 \\\\\n",
    "   C_2B_1  & D_2\n",
    "\\end{matrix}&\n",
    "\\boxed{\\begin{matrix}\n",
    "   C_1A_2B_3 & C_1A_2A_3B_4\\\\\n",
    "   C_2B_3 & C_2A_3B_4\n",
    "\\end{matrix}}\n",
    "\\\\\n",
    "\\begin{matrix}\n",
    "   C_3A_2B_1 & C_3B_2 \\\\\n",
    "   C_4A_3A_2B_1 & C_4A_3B_2\n",
    "\\end{matrix}&\n",
    "\\begin{matrix}\n",
    "   D_3 & C_3B_4 \\\\\n",
    "   C_4B_3 & D_4\n",
    "\\end{matrix}\n",
    "\\end{bmatrix}\n",
    "$$"
   ]
  },
  {
   "cell_type": "code",
   "execution_count": null,
   "metadata": {},
   "outputs": [],
   "source": []
  }
 ],
 "metadata": {
  "kernelspec": {
   "display_name": "Python 3",
   "language": "python",
   "name": "python3"
  },
  "language_info": {
   "codemirror_mode": {
    "name": "ipython",
    "version": 3
   },
   "file_extension": ".py",
   "mimetype": "text/x-python",
   "name": "python",
   "nbconvert_exporter": "python",
   "pygments_lexer": "ipython3",
   "version": "3.7.12"
  }
 },
 "nbformat": 4,
 "nbformat_minor": 4
}
