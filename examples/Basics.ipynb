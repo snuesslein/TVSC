{
 "cells": [
  {
   "cell_type": "markdown",
   "metadata": {},
   "source": [
    "# Introduction"
   ]
  },
  {
   "cell_type": "code",
   "execution_count": null,
   "metadata": {},
   "outputs": [],
   "source": [
    "import numpy as np\n",
    "from tvsclib.canonical_form import CanonicalForm\n",
    "from tvsclib.mixed_system import MixedSystem\n",
    "from tvsclib.toeplitz_operator import ToeplitzOperator\n",
    "from tvsclib.system_identification_svd import SystemIdentificationSVD\n",
    "import tvsclib.utils as utils\n",
    "\n",
    "import timeit\n",
    "import matplotlib.pyplot as plt"
   ]
  },
  {
   "cell_type": "markdown",
   "metadata": {},
   "source": [
    "This notebook describes the basic concepts of the Time Varying Systems library.\n",
    "\n",
    "Time varying systems are systems that can be epressed with the equations\n",
    "$$x_{k+1} = A_k x_k + B_k u_k $$\n",
    "$$y_k = C_k x_k + D_k u_k .$$\n",
    "Unlike timeinvariant systems the matricies $A_k$,$B_k$,$C_k$ and $D_k$ can change for the different timeindices $k$.\n",
    "The combination of $A_k$,$B_k$,$C_k$ and $D_k$ for a certian $k$ is called a stage.\n",
    "\n",
    "The $x_k$ are the states of the system.\n",
    "\n",
    "These systems can be represented with a matrix if the input vectors $u_k$ are staked to a single input vector $u$ and the output vectors $y_k$ are analogously stacked to $y$.\n",
    "Then the input-output behavior of the system can be described with the equation \n",
    "$$y = Tu$$\n",
    "\n",
    "It is also possible to have anticausal systems. These are defiend by:\n",
    "$$x_{k-1} = A_k x_k + B_k u_k $$\n",
    "$$y_k = C_k x_k + D_k u_k .$$\n",
    "Here the computation runs back in time.\n",
    "\n",
    "The causal part corresponds to the lower triangular part of $T$ wheras the anticausal part corresponds to the upper triangular part of $T$."
   ]
  },
  {
   "cell_type": "markdown",
   "metadata": {},
   "source": [
    "<img src=\"Diagrams/Example_Systems.svg\" height=\"500\">"
   ]
  },
  {
   "cell_type": "markdown",
   "metadata": {},
   "source": [
    "## Create a system\n",
    "\n",
    "First we will create a system to explore the capabilities of the library.\n",
    "For this we use the `SystemIdentificationSVD`\n",
    "The output and input dims have to be given.\n",
    "\n",
    "The library also allows to print the system.\n",
    "This gives basic informations about the structure.\n",
    "It is also possible to get an graphic representation of the system."
   ]
  },
  {
   "cell_type": "code",
   "execution_count": null,
   "metadata": {},
   "outputs": [],
   "source": [
    "dims_in =  [15, 5,10,10,15]\n",
    "dims_out = [10,10,10,10,15]\n",
    "matrix = np.random.rand(sum(dims_out), sum(dims_in))\n",
    "T = ToeplitzOperator(matrix, dims_in, dims_out)\n",
    "S = SystemIdentificationSVD(T,epsilon=1e-10)\n",
    "system = MixedSystem(S)\n",
    "\n",
    "\n",
    "print(system)\n",
    "utils.show_system(system)"
   ]
  },
  {
   "cell_type": "markdown",
   "metadata": {},
   "source": [
    "## Extract causal and anticausal part\n",
    "\n",
    "As we can see the (mixed)system contains a casual system and an anticausal system.\n",
    "These can be extracted form the mixed system."
   ]
  },
  {
   "cell_type": "code",
   "execution_count": null,
   "metadata": {},
   "outputs": [],
   "source": [
    "system_causal = system.causal_system\n",
    "system_anticausal = system.anticausal_system"
   ]
  },
  {
   "cell_type": "markdown",
   "metadata": {},
   "source": [
    "## Properties of the system\n",
    "\n",
    "We now have a look at the properites of the system:\n",
    "\n",
    "The input and output dims determine a segmentation of the matrix. These are the same for the casual and anticausal part. Therefore these are also defined for a mixed system:"
   ]
  },
  {
   "cell_type": "code",
   "execution_count": null,
   "metadata": {},
   "outputs": [],
   "source": [
    "print(\"dims_in: \",system.dims_in)\n",
    "print(\"dims_out:\",system.dims_in)"
   ]
  },
  {
   "cell_type": "markdown",
   "metadata": {},
   "source": [
    "The state dims are usually different for the causal and anticausal part:"
   ]
  },
  {
   "cell_type": "code",
   "execution_count": null,
   "metadata": {},
   "outputs": [],
   "source": [
    "print(\"Causal:    \",system.causal_system.dims_state)\n",
    "print(\"Anticausal:\",system.anticausal_system.dims_state)"
   ]
  },
  {
   "cell_type": "markdown",
   "metadata": {},
   "source": [
    "Note here that the `len(dims_state)=len(dims_in)+1`. This is because we also have the final state output.\n",
    "\n",
    "For the casual system `dims_state[k]` is the dim of state `k`.\n",
    "For anticausal systems the last state is `k=-1`. This state is added at the beginning of the vector. Therefore one has to use `dims_state[k+1]` to get the dim of state `k`."
   ]
  },
  {
   "cell_type": "markdown",
   "metadata": {},
   "source": [
    "## Calculate the output of the system\n",
    "\n",
    "Now we can apply the syste to a input vector $u$.\n",
    "This can be done using the funtion `compute`.\n",
    "\n",
    "This returns the output vector $y$ and a vector $x$ containing the states"
   ]
  },
  {
   "cell_type": "code",
   "execution_count": null,
   "metadata": {},
   "outputs": [],
   "source": [
    "#create a input vector\n",
    "u = np.random.rand(sum(dims_in),1)\n",
    "\n",
    "\n",
    "x_s, y_s = system.compute(u)\n",
    "\n",
    "#calcaulate reference\n",
    "y = matrix@u\n",
    "\n",
    "print(np.allclose(y_s,y))"
   ]
  },
  {
   "cell_type": "markdown",
   "metadata": {},
   "source": [
    "## Get properties\n",
    "\n",
    "It is also possible to get the properties of the system.\n",
    "These depaned on the observability and reachability matrices.\n",
    "We can determine if the function is minimal using the functions `is_minimal`\n",
    "The functions `is_observable` and `is_reachable` are also available.\n",
    "These can be given an optional tolerance for the determination of the rank."
   ]
  },
  {
   "cell_type": "code",
   "execution_count": null,
   "metadata": {},
   "outputs": [],
   "source": [
    "system.is_minimal()"
   ]
  },
  {
   "cell_type": "markdown",
   "metadata": {},
   "source": [
    "This is also possible for the causal and anticausal systems:"
   ]
  },
  {
   "cell_type": "code",
   "execution_count": null,
   "metadata": {},
   "outputs": [],
   "source": [
    "system_causal.is_minimal()"
   ]
  },
  {
   "cell_type": "markdown",
   "metadata": {},
   "source": [
    "With the functions `ìs_input_normal`,`ìs_input_normal` and `ìs_balanced` we can check if a strict system has a normal form"
   ]
  },
  {
   "cell_type": "code",
   "execution_count": null,
   "metadata": {},
   "outputs": [],
   "source": [
    "system_causal.is_input_normal()"
   ]
  },
  {
   "cell_type": "code",
   "execution_count": null,
   "metadata": {},
   "outputs": [],
   "source": [
    "system_anticausal.is_balanced(tolerance=1e-12)"
   ]
  },
  {
   "cell_type": "markdown",
   "metadata": {},
   "source": [
    "## Convert system back to matrix\n",
    "\n",
    "It is also possible to convert the system back to the transfer matrix $T$.\n",
    "This can be done with the function `to_matrix`.\n",
    "The function usually uses the block matrix representation\n",
    "\n",
    "$$T = \n",
    "\\begin{bmatrix}\n",
    "   D_1 &       &     &  \\cdots   \\\\\n",
    "   C_2B_1 & D_2&     &  \\cdots   \\\\\n",
    "   C_3A_2B_1 & C_3B_2& D_3 & \\cdots \\\\\n",
    "   \\vdots    & \\vdots& \\vdots & \\ddots\n",
    "\\end{bmatrix}\n",
    "$$\n",
    "This formualtion is usefull for large matrices.\n",
    "With the option `use_formula=True` the matrix is calculated using the formula\n",
    "$$T = D + C(I − ZA)^{−1}ZB$$\n",
    "The matricies $A$, $B$, $C$ and $D$ consist of the combined $A_i$, $B_i$, $C_i$ and $D_i$ respectiveley. The matrix $Z$ is the shift operator.\n",
    "This is mainly interesting for theoretical purposes.\n",
    "\n",
    "The same can be done for the anticausal system.\n",
    "If `to_matrix` is called on a mixed system the matrix of both the causal and the anticausal are calcaulated and added."
   ]
  },
  {
   "cell_type": "code",
   "execution_count": null,
   "metadata": {},
   "outputs": [],
   "source": [
    "matrix_rec = system_causal.to_matrix(use_formula=True)+ system_anticausal.to_matrix(use_formula=True)\n",
    "np.allclose(matrix,matrix_rec)"
   ]
  },
  {
   "cell_type": "code",
   "execution_count": null,
   "metadata": {},
   "outputs": [],
   "source": [
    "matrix_constr = system_causal.to_matrix(use_formula=False)+ system_anticausal.to_matrix(use_formula=False)\n",
    "np.allclose(matrix,matrix_constr)"
   ]
  },
  {
   "cell_type": "markdown",
   "metadata": {},
   "source": [
    "Compare the speed of the different implementations"
   ]
  },
  {
   "cell_type": "code",
   "execution_count": null,
   "metadata": {},
   "outputs": [],
   "source": [
    "timeit.timeit(lambda:system_causal.to_matrix(use_formula=False), number=10)"
   ]
  },
  {
   "cell_type": "code",
   "execution_count": null,
   "metadata": {},
   "outputs": [],
   "source": [
    "timeit.timeit(lambda:system_causal.to_matrix(use_formula=True), number=10)"
   ]
  },
  {
   "cell_type": "markdown",
   "metadata": {},
   "source": [
    "## Semiseperable Matices\n",
    "\n",
    "Here we want to create a system representing a semiseperable matrix.\n",
    "Semiseperable matrices have the property that the lower triangular matrix and their upper trinagular matrix have both rank 1.\n",
    "The inverses of Semiseperable matrices are tridiagonal matrices.\n",
    "This time we weil create a tridiagonal matrix. After this we will invert the matrix and get an semiseperable matrix. \n",
    "\n",
    "This matrix has the property that all submatrices taken form the lower and upper triangular parts have rank $1$.\n",
    "This also means that the a state dimension of $1$ is sufficent."
   ]
  },
  {
   "cell_type": "code",
   "execution_count": null,
   "metadata": {},
   "outputs": [],
   "source": [
    "dims_in =  [1]*8\n",
    "dims_out = [1]*8\n",
    "matrix = np.random.rand(sum(dims_out), sum(dims_in))\n",
    "matrix = matrix - np.tril(matrix,-2) - np.triu(matrix,2) # Banded shape\n",
    "plt.figure()\n",
    "plt.matshow(abs(matrix))\n",
    "plt.title(\"Tridiagonal Matrix\")\n",
    "\n",
    "\n",
    "matrix = np.linalg.inv(matrix)                           # Obscure structure\n",
    "T = ToeplitzOperator(matrix, dims_in, dims_out)\n",
    "S = SystemIdentificationSVD(T)\n",
    "\n",
    "plt.figure()\n",
    "plt.matshow(abs(matrix))\n",
    "plt.title(\"Semiseperable Matrix\")\n",
    "\n",
    "\n",
    "system = MixedSystem(S)\n",
    "system_causal = system.causal_system\n",
    "system_anticausal = system.anticausal_system\n",
    "\n",
    "print(f\"Causal state dimensions: {system_causal.dims_state}\")\n",
    "print(f\"Anticausal state dimensions: {system_anticausal.dims_state}\")\n"
   ]
  },
  {
   "cell_type": "code",
   "execution_count": null,
   "metadata": {},
   "outputs": [],
   "source": []
  }
 ],
 "metadata": {
  "kernelspec": {
   "display_name": "Python 3",
   "language": "python",
   "name": "python3"
  },
  "language_info": {
   "codemirror_mode": {
    "name": "ipython",
    "version": 3
   },
   "file_extension": ".py",
   "mimetype": "text/x-python",
   "name": "python",
   "nbconvert_exporter": "python",
   "pygments_lexer": "ipython3",
   "version": "3.7.12"
  }
 },
 "nbformat": 4,
 "nbformat_minor": 4
}
