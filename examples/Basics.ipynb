{
 "cells": [
  {
   "cell_type": "code",
   "execution_count": null,
   "metadata": {},
   "outputs": [],
   "source": [
    "import numpy as np\n",
    "from tvsclib.canonical_form import CanonicalForm\n",
    "from tvsclib.mixed_system import MixedSystem\n",
    "from tvsclib.toeplitz_operator import ToeplitzOperator\n",
    "from tvsclib.system_identification_svd import SystemIdentificationSVD\n",
    "import tvsclib.utils as utils\n",
    "\n",
    "import timeit"
   ]
  },
  {
   "cell_type": "markdown",
   "metadata": {},
   "source": [
    "# Notebook with basic explaination\n",
    "\n",
    "In this notebook intoduces the basic concepts of Time Varring Systems.\n",
    "\n",
    "These are systemns that can be epressed as \n",
    "$$x_{k+1} = A_k x_k + B_k u_k $$\n",
    "$$y_k = C_k x_k + D_k u_k $$\n",
    "unlike timeinvariant systems the $A_k$,$B_k$,$C_k$ and $D_k$ can change for the different timeindices $k$.\n",
    "The combination of $A_k$,$B_k$,$C_k$ and $D_k$ is called a stage.\n",
    "\n",
    "The $x_k$ are the states of the system.\n",
    "\n",
    "These operators can be represented with a matrix if the input vectors $u_k$ are staked to a single input vector $u$ and the output vectors $y_k$ are analogously stacked to $y$.\n",
    "\n",
    "It is also possible to have anticausal systems. These are defiend by:\n",
    "$$x_{k-1} = A_k x_k + B_k u_k $$\n",
    "$$y_k = C_k x_k + D_k u_k $$\n",
    "Here the computation runs back in time."
   ]
  },
  {
   "cell_type": "markdown",
   "metadata": {},
   "source": [
    "## Create a System\n",
    "\n",
    "First we will create a system to explore the capabilities of the library.\n",
    "For this we use the `SystemIdentificationSVD`\n",
    "The output and input dims have to be given.\n",
    "We can also give an $\\epsilon$. This determeines if smaller singular values of the hankel matrices should be ignored.\n",
    "\n",
    "The library also allows to print the system.\n",
    "This gives basic informations about the structure. "
   ]
  },
  {
   "cell_type": "code",
   "execution_count": null,
   "metadata": {},
   "outputs": [],
   "source": [
    "dims_in =  [2, 1, 2, 1, 5, 2,10, 3, 2, 1, 3, 2, 4, 2, 5,10,10,10,15]\n",
    "dims_out = [1, 2, 1, 2, 5, 2, 7, 3, 2, 1, 5, 7, 2, 1, 2,10,10,10,15]\n",
    "matrix = np.random.rand(sum(dims_out), sum(dims_in))\n",
    "T = ToeplitzOperator(matrix, dims_in, dims_out)\n",
    "S = SystemIdentificationSVD(T,epsilon=1e-10)\n",
    "system = MixedSystem(S)\n",
    "\n",
    "\n",
    "print(system)\n",
    "utils.show_system(system)"
   ]
  },
  {
   "cell_type": "markdown",
   "metadata": {},
   "source": [
    "## Extract causal and anticausal part\n",
    "\n",
    "As we can see the (mixed)system contains a casual system and an anticausal system.\n",
    "These can be extracted form the mixed system."
   ]
  },
  {
   "cell_type": "code",
   "execution_count": null,
   "metadata": {},
   "outputs": [],
   "source": [
    "system_causal = system.causal_system\n",
    "system_anticausal = system.anticausal_system"
   ]
  },
  {
   "cell_type": "markdown",
   "metadata": {},
   "source": [
    "## Properties of the system\n",
    "\n",
    "We now have a look at the properites of the system:\n",
    "\n",
    "The input and output dims determine a segmentation of the matrix. These are the same for the casual and anticausal part. Therefore these are also defined for a mixed system:"
   ]
  },
  {
   "cell_type": "code",
   "execution_count": null,
   "metadata": {},
   "outputs": [],
   "source": [
    "print(\"dims_in:\",system.dims_in)\n",
    "print(\"dims_out:\",system.dims_in)"
   ]
  },
  {
   "cell_type": "markdown",
   "metadata": {},
   "source": [
    "The state dims are usually different for the causal and anticausal part:"
   ]
  },
  {
   "cell_type": "code",
   "execution_count": null,
   "metadata": {},
   "outputs": [],
   "source": [
    "print(\"Causal:\",system.causal_system.dims_state)\n",
    "print(\"Anticausal:\",system.anticausal_system.dims_state)"
   ]
  },
  {
   "cell_type": "markdown",
   "metadata": {},
   "source": [
    "Note here that the `len(dims_state)=len(dims_in)+1`. This is because we also have the final state output.\n",
    "\n",
    "For the casual system `dims_state[k]` is the dim of state `k`.\n",
    "For anticausal systems the last state is `k=-1`. This state is added at the beginning of the vector. Therefore one has to use `dims_state[k+1]` to get the dim of state `k`."
   ]
  },
  {
   "cell_type": "markdown",
   "metadata": {},
   "source": [
    "## Calculate the output of the system\n",
    "\n",
    "Now we can apply the syste to a input vector $u$.\n",
    "This can be done using the funtion `compute`.\n",
    "\n",
    "This returns the output vector $y$ and a vector $x$ containing the states"
   ]
  },
  {
   "cell_type": "code",
   "execution_count": null,
   "metadata": {},
   "outputs": [],
   "source": [
    "#create a input vector\n",
    "u = np.random.rand(sum(dims_in),1)\n",
    "\n",
    "\n",
    "x_s, y_s = system.compute(u)\n",
    "\n",
    "#calcaulate reference\n",
    "y = matrix@u\n",
    "\n",
    "np.max(abs(y-y_s))"
   ]
  },
  {
   "cell_type": "markdown",
   "metadata": {},
   "source": [
    "## Get properties\n",
    "\n",
    "It is also possible to get the properties of the system.\n",
    "We can determine if the function is minimal using the functions `is_minimal`\n",
    "The functions `is_observable` and `is_reachable` are also available.\n",
    "These can be given an optional tolerance for the determination of the rank."
   ]
  },
  {
   "cell_type": "code",
   "execution_count": null,
   "metadata": {},
   "outputs": [],
   "source": [
    "system.is_minimal()"
   ]
  },
  {
   "cell_type": "markdown",
   "metadata": {},
   "source": [
    "This is also possible for the causal and anticausal systems:"
   ]
  },
  {
   "cell_type": "code",
   "execution_count": null,
   "metadata": {},
   "outputs": [],
   "source": [
    "system.is_minimal()"
   ]
  },
  {
   "cell_type": "markdown",
   "metadata": {},
   "source": [
    "With the functions `ìs_input_normal`,`ìs_input_normal` and `ìs_balanced` we can check if a strict system has a normal form"
   ]
  },
  {
   "cell_type": "code",
   "execution_count": null,
   "metadata": {},
   "outputs": [],
   "source": [
    "system_causal.is_input_normal()"
   ]
  },
  {
   "cell_type": "code",
   "execution_count": null,
   "metadata": {},
   "outputs": [],
   "source": [
    "system_anticausal.is_balanced(tolerance=1e-12)"
   ]
  },
  {
   "cell_type": "markdown",
   "metadata": {},
   "source": [
    "## Convert system back to matrix\n",
    "\n",
    "It is also possible to convert the system back to a matrix.\n",
    "This can be done with the function `to_matrix`.\n",
    "The function usually uses the Block matrix representation\n",
    "\n",
    "$$\n",
    "\\begin{bmatrix}\n",
    "   D_1 &       &     &  \\cdots   \\\\\n",
    "   C_2B_1 & D_2&     &  \\cdots   \\\\\n",
    "   C_3A_2B_1 & C_3B_2& D_3 & \\cdots \\\\\n",
    "   \\vdots    & \\vdots& \\vdots & \\ddots\n",
    "\\end{bmatrix}\n",
    "$$\n",
    "Thsi formaultion is usefull for large matrices.\n",
    "With the option `use_formula=True` the matrix is calculated using the formula\n",
    "$$T = D + C(I − Z@A)^{−1}ZB$$\n",
    "This is mainly interesting for theoretical purposes.\n",
    "\n",
    "The same can be done for the anticausla system.\n",
    "If `to_matrix` is called on a mixed system the matrix of both the causal and the anticausal are calcaulated and added."
   ]
  },
  {
   "cell_type": "code",
   "execution_count": null,
   "metadata": {},
   "outputs": [],
   "source": [
    "matrix_rec = system_causal.to_matrix(use_formula=True)+ system_anticausal.to_matrix(use_formula=True)\n",
    "np.max(matrix-matrix_rec)"
   ]
  },
  {
   "cell_type": "code",
   "execution_count": null,
   "metadata": {},
   "outputs": [],
   "source": [
    "matrix_constr = system_causal.to_matrix(use_formula=False)+ system_anticausal.to_matrix(use_formula=False)\n",
    "np.max(matrix-matrix_constr)"
   ]
  },
  {
   "cell_type": "markdown",
   "metadata": {},
   "source": [
    "Compare the speed of the different implementations"
   ]
  },
  {
   "cell_type": "code",
   "execution_count": null,
   "metadata": {},
   "outputs": [],
   "source": [
    "timeit.timeit(lambda:system_causal.to_matrix(use_formula=False), number=10)"
   ]
  },
  {
   "cell_type": "code",
   "execution_count": null,
   "metadata": {},
   "outputs": [],
   "source": [
    "timeit.timeit(lambda:system_causal.to_matrix(use_formula=True), number=10)"
   ]
  },
  {
   "cell_type": "code",
   "execution_count": null,
   "metadata": {},
   "outputs": [],
   "source": []
  }
 ],
 "metadata": {
  "kernelspec": {
   "display_name": "Python 3",
   "language": "python",
   "name": "python3"
  },
  "language_info": {
   "codemirror_mode": {
    "name": "ipython",
    "version": 3
   },
   "file_extension": ".py",
   "mimetype": "text/x-python",
   "name": "python",
   "nbconvert_exporter": "python",
   "pygments_lexer": "ipython3",
   "version": "3.7.12"
  }
 },
 "nbformat": 4,
 "nbformat_minor": 4
}
