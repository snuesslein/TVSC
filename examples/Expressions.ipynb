{
 "cells": [
  {
   "cell_type": "markdown",
   "metadata": {},
   "source": [
    "# Expressions\n",
    "\n",
    "Notebook that illustrates the use of expressions.\n",
    "Here we can create expressions, vizualize the underlying graph and obtain realizations."
   ]
  },
  {
   "cell_type": "code",
   "execution_count": null,
   "metadata": {},
   "outputs": [],
   "source": [
    "# %% Import neccessary stuff\n",
    "import numpy as np\n",
    "from graphviz import Digraph\n",
    "from tvsclib.strict_system import StrictSystem\n",
    "from tvsclib.mixed_system import MixedSystem\n",
    "from tvsclib.toeplitz_operator import ToeplitzOperator\n",
    "from tvsclib.system_identification_svd import SystemIdentificationSVD\n",
    "from tvsclib.transformations.reduction import Reduction\n",
    "from tvsclib.expressions.const import Const\n",
    "from tvsclib.expressions.add import Add\n",
    "from tvsclib.expressions.multiply import Multiply\n",
    "from tvsclib.expressions.invert import Invert\n",
    "from tvsclib.expressions.transpose import Transpose\n",
    "from tvsclib.expression import Expression\n",
    "\n",
    "# %% Helper function to generate expression tree graph\n",
    "def build_graph(expression:Expression, f_out:Digraph):\n",
    "    f_out.node(str(id(expression)), label=expression.name)\n",
    "    op_counter = 1\n",
    "    for child in expression.childs:\n",
    "        build_graph(child, f_out)\n",
    "        f_out.edge(str(id(child)), str(id(expression)), label=f\"op:{op_counter}\")\n",
    "        op_counter = op_counter + 1\n"
   ]
  },
  {
   "cell_type": "markdown",
   "metadata": {},
   "source": [
    "## Create systems"
   ]
  },
  {
   "cell_type": "code",
   "execution_count": null,
   "metadata": {},
   "outputs": [],
   "source": [
    "# %% Set up a matricies\n",
    "dims_in =  [2, 1, 2, 1]\n",
    "dims_out = [2, 1, 2, 1]\n",
    "u = np.random.rand(np.sum(dims_in),1)\n",
    "matrix_A = np.random.rand(np.sum(dims_out), np.sum(dims_in))\n",
    "matrix_B = np.random.rand(np.sum(dims_out), np.sum(dims_in))\n",
    "matrix_C = np.random.rand(np.sum(dims_out), np.sum(dims_in))\n",
    "\n",
    "# %% Generate time varying systems via hankel factorization\n",
    "T = ToeplitzOperator(matrix_A, dims_in, dims_out)\n",
    "S = SystemIdentificationSVD(T)\n",
    "system_A = MixedSystem(S)\n",
    "\n",
    "T = ToeplitzOperator(matrix_B, dims_in, dims_out)\n",
    "S = SystemIdentificationSVD(T)\n",
    "system_B = StrictSystem(system_identification=S, causal=True)\n",
    "\n",
    "T = ToeplitzOperator(matrix_C, dims_in, dims_out)\n",
    "S = SystemIdentificationSVD(T)\n",
    "system_C = MixedSystem(system_identification=S)\n",
    "\n",
    "# %% Compute states and output vector\n",
    "x,y = system_A.compute(u)\n",
    "print(f\"Error norm: {np.linalg.norm(y - matrix_A @ u)}\")"
   ]
  },
  {
   "cell_type": "markdown",
   "metadata": {},
   "source": [
    "## Buit the expression"
   ]
  },
  {
   "cell_type": "code",
   "execution_count": null,
   "metadata": {},
   "outputs": [],
   "source": [
    "# %% Build an expression\n",
    "A = Const(system_A, \"A\")\n",
    "B = Const(system_B, \"B\")\n",
    "C = Const(system_C, \"C\")\n",
    "\n",
    "mul = Multiply(A,B)\n",
    "inv = Invert(mul)\n",
    "add = Add(inv, C)\n",
    "trp = Transpose(add)\n",
    "\n",
    "\n",
    "# %% Generate graphs\n",
    "my_graph = Digraph(directory=\"./\")\n",
    "build_graph(trp, my_graph)\n",
    "display(my_graph)\n",
    "#my_graph.view(filename=\"expression.gv\")"
   ]
  },
  {
   "cell_type": "markdown",
   "metadata": {},
   "source": [
    "## Simplify the expression"
   ]
  },
  {
   "cell_type": "code",
   "execution_count": null,
   "metadata": {},
   "outputs": [],
   "source": [
    "simplified_expression = trp.simplify()\n",
    "my_graph = Digraph(directory=\"./\")\n",
    "build_graph(simplified_expression, my_graph)\n",
    "display(my_graph)\n",
    "#my_graph.view(filename=\"simplified_expression.gv\")"
   ]
  },
  {
   "cell_type": "markdown",
   "metadata": {},
   "source": [
    "## Create a realization"
   ]
  },
  {
   "cell_type": "code",
   "execution_count": null,
   "metadata": {},
   "outputs": [],
   "source": [
    "compiled_expression = simplified_expression.compile()\n",
    "realized_expression = simplified_expression.realize()\n",
    "realized_expression_reduced = simplified_expression\\\n",
    "    .post_realize(lambda s: Reduction().apply(s), True)\\\n",
    "        .realize()\n",
    "\n",
    "print(\"Realized_expression:\")\n",
    "print(realized_expression)\n",
    "print(f\"Is system minimal: {realized_expression.is_minimal()}\")\n",
    "\n",
    "print(\"Realized_expression_reduced:\")\n",
    "print(realized_expression_reduced)\n",
    "print(f\"Is system minimal: {realized_expression_reduced.is_minimal()}\")"
   ]
  },
  {
   "cell_type": "markdown",
   "metadata": {},
   "source": [
    "## Compute the output\n",
    "\n",
    "It is also possible to compute the output of the system without creating a realization of the expression"
   ]
  },
  {
   "cell_type": "markdown",
   "metadata": {},
   "source": [
    "Compute the output of the expression"
   ]
  },
  {
   "cell_type": "code",
   "execution_count": null,
   "metadata": {},
   "outputs": [],
   "source": [
    "print(type(compiled_expression))\n",
    "y_comp = compiled_expression.compute(u)"
   ]
  },
  {
   "cell_type": "code",
   "execution_count": null,
   "metadata": {},
   "outputs": [],
   "source": [
    "print(type(realized_expression))\n",
    "x,y_real = realized_expression.compute(u)"
   ]
  },
  {
   "cell_type": "markdown",
   "metadata": {},
   "source": [
    "Compare the outputs"
   ]
  },
  {
   "cell_type": "code",
   "execution_count": null,
   "metadata": {},
   "outputs": [],
   "source": [
    "print(np.max(y_real-y_comp))"
   ]
  },
  {
   "cell_type": "markdown",
   "metadata": {},
   "source": [
    "## Inspect the compiled expression\n",
    "\n",
    "We now generate the graph of the compiled expression. \n",
    "Here we can see that the the inversions are decomposed using the spectral URV decomposition."
   ]
  },
  {
   "cell_type": "code",
   "execution_count": null,
   "metadata": {},
   "outputs": [],
   "source": [
    "my_graph = Digraph(directory=\"./\")\n",
    "build_graph(compiled_expression, my_graph)\n",
    "display(my_graph)"
   ]
  },
  {
   "cell_type": "code",
   "execution_count": null,
   "metadata": {},
   "outputs": [],
   "source": []
  }
 ],
 "metadata": {
  "kernelspec": {
   "display_name": "Python 3",
   "language": "python",
   "name": "python3"
  },
  "language_info": {
   "codemirror_mode": {
    "name": "ipython",
    "version": 3
   },
   "file_extension": ".py",
   "mimetype": "text/x-python",
   "name": "python",
   "nbconvert_exporter": "python",
   "pygments_lexer": "ipython3",
   "version": "3.7.12"
  }
 },
 "nbformat": 4,
 "nbformat_minor": 4
}
