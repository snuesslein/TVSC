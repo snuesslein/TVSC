{
 "cells": [
  {
   "cell_type": "markdown",
   "metadata": {},
   "source": [
    "# Utils\n",
    "\n",
    "In the submodule modules we can find a couple usefull functions fro different purposes"
   ]
  },
  {
   "cell_type": "code",
   "execution_count": null,
   "metadata": {},
   "outputs": [],
   "source": [
    "import numpy as np\n",
    "import matplotlib.pyplot as plt\n",
    "import tvsclib.identification as ident\n",
    "import tvsclib.utils as utils\n",
    "import tvsclib.approximation as approximation\n",
    "\n",
    "from tempfile import TemporaryFile\n",
    "\n",
    "#create a rank-1 matrix\n",
    "T = np.arange(0,12).reshape((-1,1))@np.arange(0,12).reshape((1,-1))\n",
    "dims_in =  np.array([2, 1, 2, 1])*2\n",
    "dims_out = np.array([1, 2, 1, 2])*2\n",
    "system = ident.identify(T,dims_in,dims_out,epsilon=1e-14)"
   ]
  },
  {
   "cell_type": "markdown",
   "metadata": {},
   "source": [
    "## Plotting system\n",
    "\n",
    "Using `show_system` we can get graphical representations of the system."
   ]
  },
  {
   "cell_type": "code",
   "execution_count": null,
   "metadata": {},
   "outputs": [],
   "source": [
    "utils.show_system(system)"
   ]
  },
  {
   "cell_type": "markdown",
   "metadata": {},
   "source": [
    "We can also deactivate the shading of the D-matircies"
   ]
  },
  {
   "cell_type": "code",
   "execution_count": null,
   "metadata": {},
   "outputs": [],
   "source": [
    "utils.show_system(system,mark_D=False)"
   ]
  },
  {
   "cell_type": "markdown",
   "metadata": {},
   "source": [
    "We can also give an axis object where the representation should be plotted. \n",
    "Also note how the utils displays the seperation lines for casual and anticausal systems."
   ]
  },
  {
   "cell_type": "code",
   "execution_count": null,
   "metadata": {},
   "outputs": [],
   "source": [
    "fig,axs = plt.subplots(1,2)\n",
    "utils.show_system(system.causal_system    ,ax=axs[0])\n",
    "utils.show_system(system.anticausal_system,ax=axs[1])"
   ]
  },
  {
   "cell_type": "markdown",
   "metadata": {},
   "source": [
    "# Check system\n",
    "\n",
    "The function `check_dims` can be used to check if the dimensions of the matricies match.\n",
    "This is usefull for manually creating systems."
   ]
  },
  {
   "cell_type": "code",
   "execution_count": null,
   "metadata": {},
   "outputs": [],
   "source": [
    "utils.check_dims(system)"
   ]
  },
  {
   "cell_type": "markdown",
   "metadata": {},
   "source": [
    "Now corrupt the system:"
   ]
  },
  {
   "cell_type": "code",
   "execution_count": null,
   "metadata": {},
   "outputs": [],
   "source": [
    "system_defect = system.causal_system.copy()\n",
    "system_defect.stages[3].A_matrix = np.eye(4)\n",
    "\n",
    "utils.check_dims(system_defect)"
   ]
  },
  {
   "cell_type": "markdown",
   "metadata": {},
   "source": [
    "Usually `check_dims` assumes that the input and output states are zero-dimensional. We can override this by setting the input and output dimensions by setting the arguments `dim_state_in` and `dim_state_out`"
   ]
  },
  {
   "cell_type": "markdown",
   "metadata": {},
   "source": [
    "## Save and load system\n",
    "\n",
    "It is possible to save a system into a `.npz` file and load it back.\n",
    "The function does not require pickle."
   ]
  },
  {
   "cell_type": "code",
   "execution_count": null,
   "metadata": {},
   "outputs": [],
   "source": [
    "file = TemporaryFile()\n",
    "utils.save_system(file,system)\n",
    "file.seek(0)"
   ]
  },
  {
   "cell_type": "code",
   "execution_count": null,
   "metadata": {},
   "outputs": [],
   "source": [
    "system_load = utils.load_system(file)\n",
    "np.allclose(system_load.to_matrix(),system.to_matrix())"
   ]
  },
  {
   "cell_type": "markdown",
   "metadata": {},
   "source": [
    "It is also possible to save the singular values that can be used for approxiations alongside in the same file"
   ]
  },
  {
   "cell_type": "code",
   "execution_count": null,
   "metadata": {},
   "outputs": [],
   "source": [
    "system,sigmas = ident.identify(T,dims_in,dims_out,compute_sigmas=True)\n",
    "utils.save_system(file,system,sigmas=sigmas)\n",
    "file.seek(0);"
   ]
  },
  {
   "cell_type": "markdown",
   "metadata": {},
   "source": [
    "Now we can load it and create an `Approximation` object."
   ]
  },
  {
   "cell_type": "code",
   "execution_count": null,
   "metadata": {},
   "outputs": [],
   "source": [
    "system_load,sigmas_load = utils.load_system(file,load_sigmas=True)\n",
    "approx = approximation.Approximation(system_load,sigmas_load)"
   ]
  },
  {
   "cell_type": "code",
   "execution_count": null,
   "metadata": {},
   "outputs": [],
   "source": [
    "system_approx = approx.get_approxiamtion(3)"
   ]
  },
  {
   "cell_type": "code",
   "execution_count": null,
   "metadata": {},
   "outputs": [],
   "source": []
  }
 ],
 "metadata": {
  "kernelspec": {
   "display_name": "Python 3",
   "language": "python",
   "name": "python3"
  },
  "language_info": {
   "codemirror_mode": {
    "name": "ipython",
    "version": 3
   },
   "file_extension": ".py",
   "mimetype": "text/x-python",
   "name": "python",
   "nbconvert_exporter": "python",
   "pygments_lexer": "ipython3",
   "version": "3.7.12"
  }
 },
 "nbformat": 4,
 "nbformat_minor": 4
}
