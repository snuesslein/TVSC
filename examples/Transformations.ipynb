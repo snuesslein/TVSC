{
 "cells": [
  {
   "cell_type": "markdown",
   "metadata": {},
   "source": [
    "# Notebook with examples for Transformations\n",
    "\n",
    "This Notebook shows how a system can be reduced to a minmal system or transfomed into a cannonical form."
   ]
  },
  {
   "cell_type": "code",
   "execution_count": null,
   "metadata": {},
   "outputs": [],
   "source": [
    "import numpy as np\n",
    "from tvsclib.mixed_system import MixedSystem\n",
    "from tvsclib.strict_system import StrictSystem\n",
    "\n",
    "from tvsclib.toeplitz_operator import ToeplitzOperator\n",
    "from tvsclib.system_identification_svd import SystemIdentificationSVD\n",
    "from tvsclib.transformations.reduction import Reduction\n",
    "from tvsclib.transformations.input_normal import InputNormal\n",
    "from tvsclib.transformations.output_normal import OutputNormal\n",
    "\n",
    "from tvsclib.stage import Stage\n",
    "\n",
    "import tvsclib.utils as utils\n",
    "import matplotlib.pyplot as plt"
   ]
  },
  {
   "cell_type": "markdown",
   "metadata": {},
   "source": [
    "## Create a system"
   ]
  },
  {
   "cell_type": "code",
   "execution_count": null,
   "metadata": {},
   "outputs": [],
   "source": [
    "dims_in =  [2, 1, 2, 1, 5, 2,10, 3, 2, 1, 3, 2, 4, 2, 5,20,30,10,10,10,15]\n",
    "dims_out = [1, 2, 1, 2, 5, 2, 7, 3, 2, 1, 5, 7, 2, 1, 2,20,30,10,10,10,15]\n",
    "matrix = np.random.rand(sum(dims_out), sum(dims_in))\n",
    "T = ToeplitzOperator(matrix, dims_in, dims_out)\n",
    "S = SystemIdentificationSVD(T,epsilon=1e-10)\n",
    "system = MixedSystem(S)\n",
    "system_causal = system.causal_system\n",
    "system_anticausal = system.anticausal_system"
   ]
  },
  {
   "cell_type": "markdown",
   "metadata": {},
   "source": [
    "The system is already mininmal and balaned, as the identification already did take care of this."
   ]
  },
  {
   "cell_type": "code",
   "execution_count": null,
   "metadata": {},
   "outputs": [],
   "source": [
    "print(\"Causal minimal:\",system_causal.is_minimal())\n",
    "print(\"Anticausal minimal:\",system_anticausal.is_minimal())\n",
    "print(\"Causal balanced:\",system_causal.is_balanced(tolerance=1e-11))\n",
    "print(\"Anticausal balanced:\",system_anticausal.is_balanced(tolerance=1e-11))"
   ]
  },
  {
   "cell_type": "markdown",
   "metadata": {},
   "source": [
    "## Input normal\n",
    "\n",
    "We can now transform it to input normal form"
   ]
  },
  {
   "cell_type": "code",
   "execution_count": null,
   "metadata": {},
   "outputs": [],
   "source": [
    "sys_causal_inp = InputNormal().apply(system_causal)\n",
    "sys_anticausal_inp = InputNormal().apply(system_anticausal)\n",
    "print(\"Causal input normal:\",sys_causal_inp.is_input_normal())\n",
    "print(\"Anticausal input normal:\",sys_anticausal_inp.is_input_normal())"
   ]
  },
  {
   "cell_type": "markdown",
   "metadata": {},
   "source": [
    "Now check if the systems systems are really equivalent"
   ]
  },
  {
   "cell_type": "code",
   "execution_count": null,
   "metadata": {},
   "outputs": [],
   "source": [
    "print(np.max(np.abs(sys_causal_inp.to_matrix()-system_causal.to_matrix())))\n",
    "print(np.max(np.abs(sys_anticausal_inp.to_matrix()-system_anticausal.to_matrix())))"
   ]
  },
  {
   "cell_type": "markdown",
   "metadata": {},
   "source": [
    "Input normality means that the collumns in the reachability matricies $\\mathcal{R}_k$ are orthonormal.\n",
    "This mans that the reachability gramian $\\mathcal{R}_k \\mathcal{R}_k^\\top$ is the identity matrix.\n",
    "\n",
    "Lets illustrate this here:"
   ]
  },
  {
   "cell_type": "code",
   "execution_count": null,
   "metadata": {},
   "outputs": [],
   "source": [
    "n = 2\n",
    "gram = sys_anticausal_inp.reachability_matrix(n)@sys_anticausal_inp.reachability_matrix(n).T\n",
    "print(gram)\n",
    "np.allclose(gram,np.eye(gram.shape[0]))"
   ]
  },
  {
   "cell_type": "markdown",
   "metadata": {},
   "source": [
    "When aplying the transformation the stages get copied"
   ]
  },
  {
   "cell_type": "code",
   "execution_count": null,
   "metadata": {},
   "outputs": [],
   "source": [
    "sys_anticausal_inp.stages is system_anticausal.stages"
   ]
  },
  {
   "cell_type": "markdown",
   "metadata": {},
   "source": [
    "## Output normal"
   ]
  },
  {
   "cell_type": "code",
   "execution_count": null,
   "metadata": {},
   "outputs": [],
   "source": [
    "sys_causal_out = OutputNormal().apply(system_causal)\n",
    "sys_anticausal_out = OutputNormal().apply(system_anticausal)\n",
    "print(\"Causal output normal:\",sys_causal_out.is_output_normal())\n",
    "print(\"Anticausal output normal:\",sys_anticausal_out.is_output_normal())"
   ]
  },
  {
   "cell_type": "markdown",
   "metadata": {},
   "source": [
    "Output normality means that the collumns in the observability matricies are orthonormal.\n",
    "This means that the observability gramian $\\mathcal{O}_k^\\top \\mathcal{O}_k$ is the identity matrix.\n",
    "\n",
    "Lets illustrate this here:"
   ]
  },
  {
   "cell_type": "code",
   "execution_count": null,
   "metadata": {},
   "outputs": [],
   "source": [
    "n = 2\n",
    "gram = sys_anticausal_out.observability_matrix(n).T@sys_anticausal_out.observability_matrix(n)\n",
    "print(gram)\n",
    "np.allclose(gram,np.eye(gram.shape[0]))"
   ]
  },
  {
   "cell_type": "markdown",
   "metadata": {},
   "source": [
    "## Reduction\n",
    "\n",
    "First create a nonminimal system.\n",
    "For this we set try to represent a low rank matrix and set the epsilon to 0. This causes many spurious states "
   ]
  },
  {
   "cell_type": "code",
   "execution_count": null,
   "metadata": {},
   "outputs": [],
   "source": [
    "dims_in =  [2, 1, 2, 1, 5, 2,10, 3, 2, 1, 3, 2, 4, 2, 5,20,30,10,10,10,15]\n",
    "dims_out = [1, 2, 1, 2, 5, 2, 7, 3, 2, 1, 5, 7, 2, 1, 2,20,30,10,10,10,15]\n",
    "rank = 2\n",
    "matrix_a = np.random.rand(sum(dims_out),rank)@np.random.rand(rank,sum(dims_in))\n",
    "T = ToeplitzOperator(matrix_a, dims_in, dims_out)\n",
    "S = SystemIdentificationSVD(T,epsilon=0)\n",
    "system_a = MixedSystem(S)\n",
    "print(system_a)\n",
    "\n",
    "print(\"rank(matrix_a)=\",np.linalg.matrix_rank(matrix_a))"
   ]
  },
  {
   "cell_type": "code",
   "execution_count": null,
   "metadata": {},
   "outputs": [],
   "source": [
    "np.max(abs(matrix_a-system_a.to_matrix()))"
   ]
  },
  {
   "cell_type": "markdown",
   "metadata": {},
   "source": [
    "Now we apply the reduction and get a minimal system without converting it from a matrix"
   ]
  },
  {
   "cell_type": "code",
   "execution_count": null,
   "metadata": {},
   "outputs": [],
   "source": [
    "system_a_red = Reduction().apply(system_a)\n",
    "print(system_a_red)\n",
    "np.max(abs(matrix_a-system_a_red.to_matrix()))"
   ]
  },
  {
   "cell_type": "markdown",
   "metadata": {},
   "source": [
    "We can also set an $\\epsilon$, if we want to remove bigger singular values of the Hankel matrices."
   ]
  },
  {
   "cell_type": "code",
   "execution_count": null,
   "metadata": {},
   "outputs": [],
   "source": [
    "np.max(abs(matrix_a-system_a_red.to_matrix()))"
   ]
  },
  {
   "cell_type": "markdown",
   "metadata": {},
   "source": [
    "This reduction might introduced an error."
   ]
  },
  {
   "cell_type": "markdown",
   "metadata": {},
   "source": [
    "### Implementation of Output and Input normal\n",
    "\n",
    "The transformations to input and output normal form use the QR-decomposition.\n",
    "Here a short illustration of the output normal algorithm is given. the input normal algorithm is similar and it shoud be no problem to understand it if the output normal implementation is clear.\n",
    "\n",
    "A system is output normal if $$A_k^\\top A_k+C_k^\\top C_k = 1 $$ for all $k$\n",
    "\n",
    "This is equivalent to \n",
    "$$\n",
    "\\begin{bmatrix}\n",
    "   A_k^\\top & C_k^\\top \\\\\n",
    "\\end{bmatrix}\n",
    "\\begin{bmatrix}\n",
    "   A_k\\\\\n",
    "   C_k\n",
    "\\end{bmatrix}\n",
    "=1\n",
    "$$\n",
    "\n",
    "To obtian this we want to make the matrix $\\begin{bmatrix}\n",
    "   A_k\\\\\n",
    "   C_k\n",
    "\\end{bmatrix}$ orthogonal.\n",
    "\n",
    "This can be done with state transforms of the structure\n",
    "\n",
    "$$\\hat{A}_k=S_{k+1} A_k S_k^{-1}$$\n",
    "This can be done using the QR factorization. \n",
    "For this we look over the stages in descending order.\n",
    "We already know the state transform $S_{k+1}$ form the previous step. (The inital step of the algorithm does not have a this state transform as the $A$ matrix has vanishing size)\n",
    "\n",
    "If we apply the QR-factorization to the matrix $\\begin{bmatrix}\n",
    "   S_{k+1} A_k\\\\\n",
    "   C_k\n",
    "\\end{bmatrix}$ we obtain the a $Q$ that can be split up as following\n",
    "\n",
    "$$\n",
    "\\begin{bmatrix}\n",
    "   S_{k+1} A_k\\\\\n",
    "   C_k\n",
    "\\end{bmatrix} = QR = \\begin{bmatrix}\n",
    "   \\hat{A}_k\\\\\n",
    "   \\hat{C}_k\n",
    "\\end{bmatrix} R\n",
    "$$\n",
    "\n",
    "We can now see that the matrices $\\hat{A}_k$ and $\\hat{A}_k$ fullfill the condition.\n",
    "The $R$ is the transformation matrix $S_k$\n",
    "Also watch out that the transformation with $S_k^{-1}$ is already implicitly done by the QR-decomposition.\n",
    "\n",
    "As a last step we transform the matrices of the next stages with $S_k$\n",
    "\n",
    "$$S_{k} A_{k-1}$$\n",
    "$$S_{k} B_{k-1} $$\n",
    "\n",
    "**Some notes on observability, reachability and minimality**\n",
    "\n",
    "The algorithm produces a observable realization as the observability matrix $𝓞$ consists of orthogonal collumns.\n",
    "\n",
    "Now the question is if the transformationalso preserves reachability.\n",
    "\n",
    "For this we have to consider that the reachability matrix is is transformed according to:\n",
    "\n",
    "$$ \\hat{\\mathcal{R}} = S_k \\mathcal{R} $$\n",
    "\n",
    "If $S_k$ has full rank and the original system is reachable the new observability matrix $\\hat{\\mathcal{R}}$ has also full rank and thus the system is observable.\n",
    "\n",
    "The matrix $S_k$ has full rank iff the matries $\\begin{bmatrix}\n",
    "   A_k\\\\\n",
    "   C_k\n",
    "\\end{bmatrix}$\n",
    "have full rank. This is the case if the system is reachable.\n",
    "\n",
    "Therefore the system preserves minimality.\n",
    "If we would like to make the system minimal, use the `Reduction`, as `OutputNormal` and `InputNormal` do not change the state dimensions.\n"
   ]
  },
  {
   "cell_type": "markdown",
   "metadata": {},
   "source": [
    "### Implementation of Reduction\n",
    "The Reduction algorithm uses an algorithm based on the algorithm described in [[1](#Chandrasekaran_2005)].\n",
    "Using a small extention one can truncate the states corresponding to small singular values. \n",
    "\n",
    "First the system is transformed to a reachable and input normal system. Then it is transformed to an minmal and output normal system.\n",
    "Then an iterative algorithm is used to make the system minimal. The algorithm starts with the the stage $K=k$ and iterates down to $k=1$\n",
    "Here we use the fact that the singular values of the Hankel matrix $H_k$ can be decomposed into\n",
    " $$\n",
    " H_k = \\mathcal{O}_k \\mathcal{R}_k = \n",
    " \\begin{bmatrix}\n",
    " 1& 0 \\\\\n",
    " 0& \\mathcal{O}_{k+1}\n",
    " \\end{bmatrix}\n",
    " \\begin{bmatrix}\n",
    " C_k\\\\\n",
    " A_k\n",
    " \\end{bmatrix}\n",
    " \\mathcal{R}_k\n",
    " .\n",
    " $$\n",
    "As $\\mathcal{R}_k$ is orthogonal form the previous transformation to input normal and $\\mathcal{O}_{k+1}$ is made orthogonal the previous iteration, the singular values of $H_k$ can be obtianed by computing the singular values of the matrix \n",
    "$$ \n",
    "\\begin{bmatrix}\n",
    " C_k\\\\\n",
    " A_k\n",
    " \\end{bmatrix}\n",
    "$$\n",
    "The results can be used to make the $\\mathcal{O}_{k}$ orthogonal, which allows us to continue the computation for the next $k$."
   ]
  },
  {
   "cell_type": "markdown",
   "metadata": {},
   "source": [
    "### References\n",
    "[1]:<a id='Chandrasekaran_2005'></a> S. Chandrasekaran, P. Dewilde, M. Gu, T. Pals, X. Sun, A. J. van der Veen, and D. White. “Some Fast Algorithms for Sequentially Semiseparable Representations”. In: SIAM Journal on Matrix Analysis and Applications 27(2) (Jan. 2005). Publisher: Society for Industrial and Applied Mathematics, pp. 341–364. ISSN: 0895-4798. [DOI: 10.1137/S0895479802405884](https://doi.org/10.1137/S0895479802405884)"
   ]
  },
  {
   "cell_type": "code",
   "execution_count": null,
   "metadata": {},
   "outputs": [],
   "source": []
  }
 ],
 "metadata": {
  "kernelspec": {
   "display_name": "Python 3",
   "language": "python",
   "name": "python3"
  },
  "language_info": {
   "codemirror_mode": {
    "name": "ipython",
    "version": 3
   },
   "file_extension": ".py",
   "mimetype": "text/x-python",
   "name": "python",
   "nbconvert_exporter": "python",
   "pygments_lexer": "ipython3",
   "version": "3.7.12"
  }
 },
 "nbformat": 4,
 "nbformat_minor": 4
}
