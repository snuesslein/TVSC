{
 "cells": [
  {
   "cell_type": "markdown",
   "metadata": {},
   "source": [
    "# Notebook with examples for Transformations"
   ]
  },
  {
   "cell_type": "code",
   "execution_count": null,
   "metadata": {},
   "outputs": [],
   "source": [
    "import numpy as np\n",
    "from tvsclib.mixed_system import MixedSystem\n",
    "from tvsclib.strict_system import StrictSystem\n",
    "\n",
    "from tvsclib.toeplitz_operator import ToeplitzOperator\n",
    "from tvsclib.system_identification_svd import SystemIdentificationSVD\n",
    "from tvsclib.transformations.reduction import Reduction\n",
    "from tvsclib.transformations.input_normal import InputNormal\n",
    "from tvsclib.transformations.output_normal import OutputNormal\n",
    "\n",
    "from tvsclib.stage import Stage\n",
    "\n",
    "import tvsclib.utils as utils\n",
    "import matplotlib.pyplot as plt"
   ]
  },
  {
   "cell_type": "markdown",
   "metadata": {},
   "source": [
    "## Create a system\n",
    "\n",
    "Here we create a system. \n",
    "This time we weil create a tridiagonal matrix. After this we will invert the matrix.\n",
    "By this we get an semiseperable matrix. Thsi mattrix has the property that all submatrices taken form the lower and upper triangular parts have rank 1.\n",
    "This also means that the a state dim of 1 is sufficent."
   ]
  },
  {
   "cell_type": "code",
   "execution_count": null,
   "metadata": {},
   "outputs": [],
   "source": [
    "dims_in =  [1]*8\n",
    "dims_out = [1]*8\n",
    "matrix = np.random.rand(sum(dims_out), sum(dims_in))\n",
    "matrix = matrix - np.tril(matrix,-2) - np.triu(matrix,2) # Banded shape\n",
    "plt.figure()\n",
    "plt.matshow(abs(matrix))\n",
    "\n",
    "matrix = np.linalg.inv(matrix)                           # Obscure structure\n",
    "T = ToeplitzOperator(matrix, dims_in, dims_out)\n",
    "S = SystemIdentificationSVD(T)\n",
    "\n",
    "plt.figure()\n",
    "plt.matshow(abs(matrix))\n",
    "\n",
    "system = MixedSystem(S)\n",
    "system_causal = system.causal_system\n",
    "system_anticausal = system.anticausal_system\n",
    "\n",
    "print(f\"Causal state dimensions: {system_causal.dims_state}\")\n",
    "print(f\"Anticausal state dimensions: {system_anticausal.dims_state}\")\n"
   ]
  },
  {
   "cell_type": "raw",
   "metadata": {},
   "source": [
    "V,To = system_causal.inner_outer_factorization()\n",
    "U,R,v,V = system.urv_decomposition()\n",
    "\n",
    "R_red = Reduction().apply(R)\n",
    "\n",
    "pass"
   ]
  },
  {
   "cell_type": "markdown",
   "metadata": {},
   "source": [
    "## Create a more complex system"
   ]
  },
  {
   "cell_type": "code",
   "execution_count": null,
   "metadata": {},
   "outputs": [],
   "source": [
    "dims_in =  [2, 1, 2, 1, 5, 2,10, 3, 2, 1, 3, 2, 4, 2, 5,20,30,10,10,10,15]\n",
    "dims_out = [1, 2, 1, 2, 5, 2, 7, 3, 2, 1, 5, 7, 2, 1, 2,20,30,10,10,10,15]\n",
    "matrix = np.random.rand(sum(dims_out), sum(dims_in))\n",
    "T = ToeplitzOperator(matrix, dims_in, dims_out)\n",
    "S = SystemIdentificationSVD(T,epsilon=1e-10)\n",
    "system = MixedSystem(S)\n",
    "system_causal = system.causal_system\n",
    "system_anticausal = system.anticausal_system"
   ]
  },
  {
   "cell_type": "markdown",
   "metadata": {},
   "source": [
    "The system is already mininmal and balnaced."
   ]
  },
  {
   "cell_type": "code",
   "execution_count": null,
   "metadata": {},
   "outputs": [],
   "source": [
    "print(\"Causal minimal:\",system_causal.is_minimal())\n",
    "print(\"Anticausal minimal:\",system_anticausal.is_minimal())\n",
    "print(\"Causal balanced:\",system_causal.is_balanced(tolerance=1e-11))\n",
    "print(\"Anticausal balanced:\",system_anticausal.is_balanced(tolerance=1e-11))"
   ]
  },
  {
   "cell_type": "markdown",
   "metadata": {},
   "source": [
    "## Input normal\n",
    "\n",
    "We can now transform it to input normal form"
   ]
  },
  {
   "cell_type": "code",
   "execution_count": null,
   "metadata": {},
   "outputs": [],
   "source": [
    "sys_causal_inp = InputNormal().apply(system_causal)\n",
    "sys_anticausal_inp = InputNormal().apply(system_anticausal)\n",
    "print(\"Causal input normal:\",sys_causal_inp.is_input_normal())\n",
    "print(\"Anticausal input normal:\",sys_anticausal_inp.is_input_normal())"
   ]
  },
  {
   "cell_type": "markdown",
   "metadata": {},
   "source": [
    "Now check if the systems systems are really equivalent"
   ]
  },
  {
   "cell_type": "code",
   "execution_count": null,
   "metadata": {},
   "outputs": [],
   "source": [
    "print(np.max(np.abs(sys_causal_inp.to_matrix()-system_causal.to_matrix())))\n",
    "print(np.max(np.abs(sys_anticausal_inp.to_matrix()-system_anticausal.to_matrix())))"
   ]
  },
  {
   "cell_type": "markdown",
   "metadata": {},
   "source": [
    "Input normality means that the collumns in the observability matrix are orthonormal.\n",
    "This mans that the gramian is the identity matrix.\n",
    "\n",
    "Lets illustrate this here:"
   ]
  },
  {
   "cell_type": "code",
   "execution_count": null,
   "metadata": {},
   "outputs": [],
   "source": [
    "n = 2\n",
    "gram = sys_anticausal_inp.reachability_matrix(n)@sys_anticausal_inp.reachability_matrix(n).T\n",
    "print(gram)\n",
    "np.allclose(gram,np.eye(gram.shape[0]))"
   ]
  },
  {
   "cell_type": "markdown",
   "metadata": {},
   "source": [
    "Illustrate that the systems got copied"
   ]
  },
  {
   "cell_type": "code",
   "execution_count": null,
   "metadata": {},
   "outputs": [],
   "source": [
    "sys_anticausal_inp.stages is system_anticausal.stages"
   ]
  },
  {
   "cell_type": "markdown",
   "metadata": {},
   "source": [
    "## Output normal and Input Normal"
   ]
  },
  {
   "cell_type": "code",
   "execution_count": null,
   "metadata": {},
   "outputs": [],
   "source": [
    "sys_causal_out = OutputNormal().apply(system_causal)\n",
    "sys_anticausal_out = OutputNormal().apply(system_anticausal)\n",
    "print(\"Causal output normal:\",sys_causal_out.is_output_normal())\n",
    "print(\"Anticausal output normal:\",sys_anticausal_out.is_output_normal())"
   ]
  },
  {
   "cell_type": "markdown",
   "metadata": {},
   "source": [
    "Output normality means that the rows in the observability matrix are orthonormal.\n",
    "This mans that the gramian is the identity matrix.\n",
    "\n",
    "Lets illustrate this here:"
   ]
  },
  {
   "cell_type": "code",
   "execution_count": null,
   "metadata": {},
   "outputs": [],
   "source": [
    "n = 2\n",
    "gram = sys_anticausal_out.observability_matrix(n)@sys_anticausal_out.observability_matrix(n).T\n",
    "print(gram)\n",
    "np.allclose(gram,np.eye(gram.shape[0]))"
   ]
  },
  {
   "cell_type": "markdown",
   "metadata": {},
   "source": [
    "## Reduction\n",
    "\n",
    "First create a nonminimal system.\n",
    "For this we set try to represent a low rank 1 matrix and set the epsilon to 0. This causes many spurious states "
   ]
  },
  {
   "cell_type": "code",
   "execution_count": null,
   "metadata": {},
   "outputs": [],
   "source": [
    "dims_in =  [2, 1, 2, 1, 5, 2,10, 3, 2, 1, 3, 2, 4, 2, 5,20,30,10,10,10,15]\n",
    "dims_out = [1, 2, 1, 2, 5, 2, 7, 3, 2, 1, 5, 7, 2, 1, 2,20,30,10,10,10,15]\n",
    "matrix_a = np.random.rand(sum(dims_out),2)@np.random.rand(2,sum(dims_in))\n",
    "T = ToeplitzOperator(matrix_a, dims_in, dims_out)\n",
    "S = SystemIdentificationSVD(T,epsilon=0)\n",
    "system_a = MixedSystem(S)\n",
    "print(system_a)\n",
    "\n",
    "print(\"rank(matrix_a)=\",np.linalg.matrix_rank(matrix_a))"
   ]
  },
  {
   "cell_type": "code",
   "execution_count": null,
   "metadata": {},
   "outputs": [],
   "source": [
    "np.max(abs(matrix_a-system_a.to_matrix()))"
   ]
  },
  {
   "cell_type": "markdown",
   "metadata": {},
   "source": [
    "Now we apply the reduction"
   ]
  },
  {
   "cell_type": "code",
   "execution_count": null,
   "metadata": {},
   "outputs": [],
   "source": [
    "system_a_red = Reduction().apply(system_a)\n",
    "print(system_a_red)\n",
    "np.max(abs(matrix_a-system_a_red.to_matrix()))"
   ]
  },
  {
   "cell_type": "markdown",
   "metadata": {},
   "source": [
    "We can see that the syste is still not minimal, even if the number of state dimentiosn has been reduced.\n",
    "This is because the reduction mehto only takes the singualr values in a single step into account. \n",
    "Therefore we might sill not have a minimal system.\n",
    "If we want to make the system minimal with an well defined croping of singular vaules of the Hankel operators we have to transform it to a ballanced realization. \n",
    "\n",
    "In this case we can use the reduce function with a bigger $\\epsilon$"
   ]
  },
  {
   "cell_type": "code",
   "execution_count": null,
   "metadata": {},
   "outputs": [],
   "source": [
    "system_a_red = Reduction(epsilon=1e-7).apply(system_a)\n",
    "print(system_a_red)"
   ]
  },
  {
   "cell_type": "code",
   "execution_count": null,
   "metadata": {},
   "outputs": [],
   "source": [
    "np.max(abs(matrix_a-system_a_red.to_matrix()))"
   ]
  },
  {
   "cell_type": "markdown",
   "metadata": {},
   "source": [
    "We can also see that the reduction might introduced an error."
   ]
  },
  {
   "cell_type": "markdown",
   "metadata": {},
   "source": [
    "### Implementation of Output and Input normal\n",
    "\n",
    "Some Notes here:\n",
    "\n",
    "The input and output normal transformations use the QR-decomposition.\n",
    "\n",
    "Here a short illustration of the output normal algorithm, the input normal algorithm is similar and it shoud be no problem to understand it if the output normal implementation is clear.\n",
    "\n",
    "Output normality is $$A_k^\\top A_k+C_k^\\top C_k = 1$$\n",
    "\n",
    "This is equivalent to \n",
    "$$\n",
    "\\begin{bmatrix}\n",
    "   A_k^\\top & C_k^\\top \\\\\n",
    "\\end{bmatrix}\n",
    "\\begin{bmatrix}\n",
    "   A_k\\\\\n",
    "   C_k\n",
    "\\end{bmatrix}\n",
    "=1\n",
    "$$\n",
    "\n",
    "To obtian this we want to make the matrix $\\begin{bmatrix}\n",
    "   A_k\\\\\n",
    "   C_k\n",
    "\\end{bmatrix}$ orthogonal.\n",
    "\n",
    "This can be done with state transforms of the structure\n",
    "\n",
    "$$\\hat{A}_k=S_{k+1} A_k S_k^{-1}$$\n",
    "This can be done using the QR factorization. \n",
    "For this we look over the stages in descending order.\n",
    "We already know the state transform $S_{k+1}$ form the previous step. (The inital step of the algorithm does not have a this state transform as the $A$ matrix has vanishing size)\n",
    "\n",
    "If we apply the QR-factorization to the matrix $\\begin{bmatrix}\n",
    "   S_{k+1} A_k\\\\\n",
    "   C_k\n",
    "\\end{bmatrix}$ we obtain the a $Q$ that can be split up as following\n",
    "\n",
    "$$\n",
    "\\begin{bmatrix}\n",
    "   S_{k+1} A_k\\\\\n",
    "   C_k\n",
    "\\end{bmatrix} = QR = \\begin{bmatrix}\n",
    "   \\hat{A}_k\\\\\n",
    "   \\hat{C}_k\n",
    "\\end{bmatrix} R\n",
    "$$\n",
    "\n",
    "We can now see that the matrices $\\hat{A}_k$ and $\\hat{A}_k$ fullfill the condition.\n",
    "The $R$ is the transformation matrix $S_k$\n",
    "Also watch out that the transformation with $S_k^{-1}$ is already implicitly done by the QR-decomposition.\n",
    "\n",
    "As a last step we transform the matrices of the next stages with $S_k$\n",
    "\n",
    "$$S_{k} A_{k-1}$$\n",
    "$$S_{k} B_{k-1} $$\n",
    "\n",
    "**Some notes on observability, reachability and minimality**\n",
    "\n",
    "The algorithm produces a observable realization as the observability matrix $𝓞$ consists of orthogonal collumns.\n",
    "\n",
    "Now the question is if the transformationalso preserves reachability.\n",
    "\n",
    "For this we have to consider that the reachability matrix is is transformed according to:\n",
    "\n",
    "$$ \\hat{𝓡} = S_k 𝓡 $$\n",
    "\n",
    "If $S_k$ has full rank and the original system is reachable the new observability matrix $\\hat{𝓡}$ has also full rank and thus the system is observable.\n",
    "\n",
    "The matrix $S_k$ has full rank iff the matries $\\begin{bmatrix}\n",
    "   A_k\\\\\n",
    "   C_k\n",
    "\\end{bmatrix}$\n",
    "have full rank. This is the case if the system is reachable.\n",
    "\n",
    "Therefore the system preserves minimality.\n",
    "If we would like to make the system minimal, we would need to use a rank revealing QR-decomposition or the SVD.\n"
   ]
  },
  {
   "cell_type": "code",
   "execution_count": null,
   "metadata": {},
   "outputs": [],
   "source": []
  }
 ],
 "metadata": {
  "kernelspec": {
   "display_name": "Python 3",
   "language": "python",
   "name": "python3"
  },
  "language_info": {
   "codemirror_mode": {
    "name": "ipython",
    "version": 3
   },
   "file_extension": ".py",
   "mimetype": "text/x-python",
   "name": "python",
   "nbconvert_exporter": "python",
   "pygments_lexer": "ipython3",
   "version": "3.7.7"
  }
 },
 "nbformat": 4,
 "nbformat_minor": 4
}
