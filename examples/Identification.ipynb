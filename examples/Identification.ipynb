{
 "cells": [
  {
   "cell_type": "markdown",
   "metadata": {},
   "source": [
    "# Identification\n",
    "\n",
    "In the previous notebooks we simply used the conversion function to generate a system form a Transfer matrix $T$. In this notebook we will give more detail on the different strategies to generate systems, that are implemented in this library"
   ]
  },
  {
   "cell_type": "code",
   "execution_count": null,
   "metadata": {},
   "outputs": [],
   "source": [
    "import numpy as np\n",
    "from tvsclib.mixed_system import MixedSystem\n",
    "import tvsclib.utils as utils\n",
    "\n",
    "import timeit"
   ]
  },
  {
   "cell_type": "markdown",
   "metadata": {},
   "source": [
    "## Identification using the shift invariance property\n",
    "\n",
    "\n",
    "To constrct as system that has the given transfer matrix $T$ we first factor the Hankel matrices into the observability and reachability matrices.\n",
    "If factor $H_k$ using the SVD into $H_k = U \\Sigma V^\\top$ we can get the state dimension by using the reduced SVD.\n",
    "\n",
    "If we set \n",
    "$$\\mathcal{O}_k = U \\Sigma^{1/2} \\quad\\text{and}\\quad \\mathcal{R}_k = \\Sigma^{1/2} V^\\top$$\n",
    "we obtian a balanced realisation.\n",
    "\n",
    "Analogously we can get an input normal realzation by setting \n",
    "$$\\mathcal{O}_k = U \\Sigma \\quad\\text{and}\\quad \\mathcal{R}_k = V^\\top$$\n",
    "or an output normal realsation by setting\n",
    "$$\\mathcal{O}_k = U \\quad\\text{and}\\quad \\mathcal{R}_k = \\Sigma V^\\top$$\n",
    "\n",
    "The matrices $C_k$ and $B_k$ can be be directly extracted form the matricies using the relationships\n",
    "$$\t\\mathcal{O}_k = \n",
    "\t\\begin{bmatrix}\n",
    "\t\tC_k\\\\\n",
    "\t\tC_{k+1}A_k\\\\\n",
    "\t\tC_{k+2}A_{k+1}A_k\\\\\n",
    "\t\t\\vdots\n",
    "\t\\end{bmatrix}$$\n",
    "    and\n",
    "    $$\n",
    "    \t\\mathcal{R}_{k+1} = \\begin{bmatrix}\n",
    "\t \\cdots & A_{k}A_{k-1}B_{k-2} &A_{k}B_{k-1} &B_{k}\n",
    "\t\\end{bmatrix}\n",
    "    $$\n",
    "    \n",
    "To compute the matrix $A_k$ can use the fact that the the range of the Hankel matrices $H_k$ and $H_{k+1}$ can be realted.\n",
    "\n",
    "If we remove the first row of the Hankel matrix \n",
    "\n",
    "$$H_k =\n",
    "\t\t\\begin{bmatrix}\n",
    "\\cdots   & C_{k}A_{k-1}B_{k-2} & C_{k}B_{k-1} \\\\\n",
    "\\cdots   & C_{k+1}A_{k}A_{k-1}B_{k-2} & C_{k+1}A_{k}B_{k-1} \\\\\n",
    "\\cdots   & C_{k+2}C_{k+1}A_{k}A_{k-1}B_{k-2} & C_{k+2}A_{k+1}A_{k}B_{k-1} \\\\\n",
    " &\\vdots &\\vdots\n",
    "\\end{bmatrix}$$\n",
    "we obtian the Matrix \n",
    "$$\n",
    "H_k\\!\\uparrow\t\t\\begin{bmatrix}\n",
    "\\cdots   & C_{k+1}A_{k}A_{k-1}B_{k-2} & C_{k+1}A_{k}B_{k-1} \\\\\n",
    "\\cdots   & C_{k+2}C_{k+1}A_{k}A_{k-1}B_{k-2} & C_{k+2}A_{k+1}A_{k}B_{k-1} \\\\\n",
    " &\\vdots &\\vdots\n",
    "\\end{bmatrix}.\n",
    "$$\n",
    "\n",
    "This matrix can also be written as the product\n",
    "$$H_k\\!\\uparrow = \\mathcal{O_{k+1}} A_k \\mathcal{R}_k$$\n",
    "\n",
    "This is a consequnence of the shift invariance property.\n",
    "\n",
    "The matrix $\\mathcal{O_{k}}\\!\\uparrow = \\mathcal{O_{k+1}} A_k$ can be obtained by removing the first block-row of $\\mathcal{O_{k}}$.\n",
    "Then we obtian $A_k$ by solving it using the Moore-Penrose Pseudoinverse $\\mathcal{O_{k+1}}^\\dagger$ of $\\mathcal{O_{k+1}}$.\n",
    "Finally \n",
    "$$A_k = \\mathcal{O_{k+1}}^\\dagger \\mathcal{O_{k}}\\!\\uparrow$$\n",
    "\n",
    "This algorithm and more details on the shift invariance property can be found in [[1](#Dewilde_1998)] on the pages 52-62.\n",
    "This also gives an constructive proof that an arbritrary matrix can be represented by a time varying system."
   ]
  },
  {
   "cell_type": "markdown",
   "metadata": {},
   "source": [
    "A implementation of this algorithm is availabel in the module `SystemIdentificationSVD`\n",
    "We can also give an $\\epsilon$. This determeines if smaller singular values of the hankel matrices should be ignored."
   ]
  },
  {
   "cell_type": "code",
   "execution_count": null,
   "metadata": {},
   "outputs": [],
   "source": [
    "dims_in =  [15,15,15,15]\n",
    "dims_out = [15,15,15,15]\n",
    "rank = 5\n",
    "T = np.random.rand(sum(dims_out),rank)@np.random.rand(rank,sum(dims_in))"
   ]
  },
  {
   "cell_type": "code",
   "execution_count": null,
   "metadata": {},
   "outputs": [],
   "source": [
    "from tvsclib.system_identification_svd import SystemIdentificationSVD\n",
    "from tvsclib.toeplitz_operator import ToeplitzOperator\n",
    "\n",
    "TOs = ToeplitzOperator(T, dims_in, dims_out)\n",
    "S = SystemIdentificationSVD(TOs,epsilon=1e-14)\n",
    "system_a = MixedSystem(S)\n",
    "print(system_a)"
   ]
  },
  {
   "cell_type": "markdown",
   "metadata": {},
   "source": [
    "This algorithm explicitly computes and stores the Observability and Reachability matrices for all stages. This meanst, that the memory requirements can be prohibitivly for large systems.\n",
    "The additional computation of the pseudoinverse also adds computational overhead.\n",
    "To aleveiate these issues, a second implelemtation is provided."
   ]
  },
  {
   "cell_type": "markdown",
   "metadata": {},
   "source": [
    "## Identification without pseudoinverse\n",
    "\n",
    "It is also possible to use an anglorithm that does not need an explicit computation of the Pseudoinverse.\n",
    "For this we agian factor the Hankel Matrix into $H_k = U \\Sigma V^\\top$. \n",
    "We then set\n",
    "$$\\mathcal{O}_k = U \\quad\\text{and}\\quad \\mathcal{R}_k = \\Sigma V^\\top.$$\n",
    "\n",
    "Based on this we agian imediatly get $C_k$ and $B_{k-1}$.\n",
    "Additionally we get $\\mathcal{O_{k}}\\!\\uparrow$.\n",
    "Now we need to again compute $A_k$ by solving \n",
    "$$\\mathcal{O_{k}}\\!\\uparrow = \\mathcal{O_{k+1}} A_k.$$\n",
    "If we multiply it form the right left with $\\mathcal{O}_{k+1}^\\top$ we get\n",
    "$$\\mathcal{O}_{k+1}^\\top \\mathcal{O_{k}}\\!\\uparrow = \\mathcal{O}_{k+1}^\\top\\mathcal{O_{k+1}} A_k.$$\n",
    "As the realization is output normal we have $\\mathcal{O}_{k+1}^\\top\\mathcal{O_{k+1}}=1$\n",
    "and therefore get\n",
    "$$\\mathcal{O}_{k+1}^\\top \\mathcal{O_{k}}\\!\\uparrow = A_k.$$\n",
    "\n",
    "This results in an output normal system. To get an balanced or output normal system we can transform it using the singular values.\n",
    "This can be done efficintly as the required transformation matrix is a diagonbal matrix.\n",
    "\n",
    "A similar algorithm is also described in [[2](Chandrasekaran_2002)].\n"
   ]
  },
  {
   "cell_type": "code",
   "execution_count": null,
   "metadata": {},
   "outputs": [],
   "source": [
    "import tvsclib.identification as ident\n",
    "system_b = ident.identify(matrix_a, dims_in, dims_out,epsilon=1e-14)\n",
    "print(system_a)"
   ]
  },
  {
   "cell_type": "markdown",
   "metadata": {},
   "source": [
    "The identification in the identification module is the prevered implementation as it is faster and does not require additional memory to store large intermediate results."
   ]
  },
  {
   "cell_type": "code",
   "execution_count": null,
   "metadata": {},
   "outputs": [],
   "source": [
    "T = np.random.rand(500,500)\n",
    "dims_in  = np.array(50*[10])\n",
    "dims_out = np.array(50*[10])"
   ]
  },
  {
   "cell_type": "code",
   "execution_count": null,
   "metadata": {},
   "outputs": [],
   "source": [
    "timeit.timeit(lambda:ident.identify(T, dims_in, dims_out,epsilon=1e-14), number=1)"
   ]
  },
  {
   "cell_type": "code",
   "execution_count": null,
   "metadata": {},
   "outputs": [],
   "source": [
    "timeit.timeit(lambda:MixedSystem(SystemIdentificationSVD(\n",
    "    ToeplitzOperator(T, dims_in, dims_out),epsilon=1e-14)), number=1)"
   ]
  },
  {
   "cell_type": "markdown",
   "metadata": {},
   "source": [
    "## Further Notes\n",
    "\n",
    "A third strategy to get an system represerntation form a matrix is described in [Masterarbeit]. Here we start by converting the Matrix into a trivial system with only one stage. These stages can be recursiveley split until we reach the desired input and output dimensions. "
   ]
  },
  {
   "cell_type": "markdown",
   "metadata": {},
   "source": [
    "### References\n",
    "[1]:<a id='Dewilde_1998'></a> P. Dewilde and A.-J. van der Veen. Time-Varying Systems and Computations. Jan. 1, 1998. ISBN : 978-0-7923-8189-1. [DOI : 10.1007/978- 1- 4757-\n",
    "2817-0](https://doi.org/10.1007/978-1-4757-2817-0)\n",
    "\n",
    "[2]:<a id='Chandrasekaran_2002'></a>\n",
    "S. Chandrasekaran, P. Dewilde, M. Gu, T. Pals, and A. J. van der Veen.\n",
    "“Fast Stable Solver for Sequentially Semi-separable Linear Systems of Equa-\n",
    "tions”. In: High Performance Computing — HiPC 2002. Ed. by S. Sahni, V. K.\n",
    "Prasanna, and U. Shukla. Berlin, Heidelberg: Springer, 2002, pp. 545–554.\n",
    "ISBN : 978-3-540-36265-4. [DOI : 10.1007/3-540-36265-7_51](https://doi.org/10.1007/3-540-36265-7_51)"
   ]
  },
  {
   "cell_type": "code",
   "execution_count": null,
   "metadata": {},
   "outputs": [],
   "source": []
  }
 ],
 "metadata": {
  "kernelspec": {
   "display_name": "Python 3",
   "language": "python",
   "name": "python3"
  },
  "language_info": {
   "codemirror_mode": {
    "name": "ipython",
    "version": 3
   },
   "file_extension": ".py",
   "mimetype": "text/x-python",
   "name": "python",
   "nbconvert_exporter": "python",
   "pygments_lexer": "ipython3",
   "version": "3.7.12"
  }
 },
 "nbformat": 4,
 "nbformat_minor": 4
}
