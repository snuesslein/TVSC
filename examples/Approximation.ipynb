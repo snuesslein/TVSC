{
 "cells": [
  {
   "cell_type": "code",
   "execution_count": null,
   "metadata": {},
   "outputs": [],
   "source": [
    "import numpy as np\n",
    "from tvsclib.canonical_form import CanonicalForm\n",
    "from tvsclib.mixed_system import MixedSystem\n",
    "from tvsclib.toeplitz_operator import ToeplitzOperator\n",
    "from tvsclib.system_identification_svd import SystemIdentificationSVD\n",
    "from tvsclib.approximation import Approximation\n",
    "import matplotlib.pyplot as plt\n",
    "import tvsclib.utils as utils"
   ]
  },
  {
   "cell_type": "markdown",
   "metadata": {},
   "source": [
    "# Notebook on approximations\n",
    "\n",
    "Thsi notebook is on approxiamtions of systems.\n",
    "These are done by converting the system to a ordered representation.\n",
    "When this is done, the singular values of the Hankel operators are stored.\n",
    "\n",
    "Lets create a matrix.\n",
    "This has a two states and one state. We design the Hankel matrices in such a way that they have certian $\\sigma$s"
   ]
  },
  {
   "cell_type": "code",
   "execution_count": null,
   "metadata": {},
   "outputs": [],
   "source": [
    "#create a special matrix \n",
    "n = 10\n",
    "mat = np.random.rand(2*n,2*n)\n",
    "Uc, s, Vch = np.linalg.svd(mat[n:,:n], full_matrices=True)\n",
    "Ua, s, Vah = np.linalg.svd(mat[:n,n:], full_matrices=True)\n",
    "\n",
    "sc = np.linspace(5,0,n)\n",
    "sa = np.linspace(5,0,n)\n",
    "\n",
    "#sc = np.zeros(n)\n",
    "#sa = np.zeros(n)\n",
    "#sc[0]=5\n",
    "#sc[1]=5\n",
    "#sa[0]=5\n",
    "#sa[1]=0\n",
    "\n",
    "mat[n:,:n] = Uc*sc@Vch\n",
    "mat[:n,n:] = Ua*sa@Vah\n",
    "\n",
    "T = ToeplitzOperator(mat, [n,n], [n,n])\n",
    "S = SystemIdentificationSVD(T,epsilon=1e-10)\n",
    "system = MixedSystem(S)\n",
    "\n",
    "utils.show_system(system)\n",
    "plt.clim(-1.5,1.5)"
   ]
  },
  {
   "cell_type": "markdown",
   "metadata": {},
   "source": [
    "Lets have a look at the sigmas of the system and check if they are tha same as the designated sigmas"
   ]
  },
  {
   "cell_type": "code",
   "execution_count": null,
   "metadata": {},
   "outputs": [],
   "source": [
    "approx =Approximation(system)\n",
    "display(approx.sigmas_causal)\n",
    "display(sc)\n",
    "\n",
    "\n",
    "display(approx.sigmas_anticausal)\n",
    "display(sa)"
   ]
  },
  {
   "cell_type": "markdown",
   "metadata": {},
   "source": [
    "Now create a approxiamtion:"
   ]
  },
  {
   "cell_type": "code",
   "execution_count": null,
   "metadata": {},
   "outputs": [],
   "source": [
    "eps = 3\n",
    "\n",
    "approx_system=approx.get_approxiamtion(eps)\n",
    "utils.show_system(approx_system)\n",
    "plt.clim(-1.5,1.5)"
   ]
  },
  {
   "cell_type": "markdown",
   "metadata": {},
   "source": [
    "We can now see that the number of states is reduced. we have as many states as we have $\\sigma_i > \\epsilon$"
   ]
  },
  {
   "cell_type": "code",
   "execution_count": null,
   "metadata": {},
   "outputs": [],
   "source": [
    "print(approx_system)"
   ]
  },
  {
   "cell_type": "code",
   "execution_count": null,
   "metadata": {},
   "outputs": [],
   "source": [
    "#check the system by creating a reference matrix\n",
    "mat_ref = mat.copy()\n",
    "nc = np.count_nonzero(sc>eps)\n",
    "na = np.count_nonzero(sa>eps)\n",
    "\n",
    "mat_ref[n:,:n] = Uc[:,:nc]*sc[:nc]@Vch[:nc,:]\n",
    "mat_ref[:n,n:] = Ua[:,:na]*sa[:na]@Vah[:na,:]\n",
    "\n",
    "dif = mat_ref-approx_system.to_matrix()\n",
    "plt.matshow(dif)\n",
    "plt.clim(-1.5e-14,1.5e-14)\n",
    "print(np.max(dif))"
   ]
  },
  {
   "cell_type": "markdown",
   "metadata": {},
   "source": [
    "## Now create a system with more stages"
   ]
  },
  {
   "cell_type": "code",
   "execution_count": null,
   "metadata": {},
   "outputs": [],
   "source": [
    "#Hankel norm etc....\n",
    "def max_sigma(A, dims_in,dims_out):\n",
    "    #for more details on the implementation see the notebook on Obs and Reach\n",
    "    n = len(dims_in)\n",
    "    s_c = [np.max(np.linalg.svd(A[-np.sum(dims_out[k:]):,:np.sum(dims_in[:k])],compute_uv=False)) for k in range(1,n)]\n",
    "    s_a = [np.max(np.linalg.svd(A[:np.sum(dims_out[:k+1]),-np.sum(dims_in[k+1:]):],compute_uv=False)) for k in range(n-2,-1,-1)]\n",
    "    return max(max(s_c),max(s_a))"
   ]
  },
  {
   "cell_type": "raw",
   "metadata": {},
   "source": [
    "#causal\n",
    "k =2\n",
    "\n",
    "\n",
    "d_in = np.sum(dims_in[:k])\n",
    "d_out = np.sum(dims_out[k:])\n",
    "\n",
    "H_caus = matrix[-d_out:,:d_in]\n",
    "\n",
    "#anticausal\n",
    "k =0\n",
    "d_in = np.sum(dims_in[k+1:])\n",
    "d_out = np.sum(dims_out[:k+1])\n",
    "\n",
    "H_anticaus = matrix[:d_out,-d_in:] \n",
    "\n"
   ]
  },
  {
   "cell_type": "code",
   "execution_count": null,
   "metadata": {},
   "outputs": [],
   "source": [
    "dims_in =  [10]*8\n",
    "dims_out = [10]*8\n",
    "matrix = np.random.rand(sum(dims_out), sum(dims_in))\n",
    "T = ToeplitzOperator(matrix, dims_in, dims_out)\n",
    "S = SystemIdentificationSVD(T,epsilon=1e-10)\n",
    "system = MixedSystem(S)\n",
    "\n",
    "print(system)"
   ]
  },
  {
   "cell_type": "code",
   "execution_count": null,
   "metadata": {},
   "outputs": [],
   "source": [
    "max_sigma(matrix,dims_in,dims_out)"
   ]
  },
  {
   "cell_type": "code",
   "execution_count": null,
   "metadata": {},
   "outputs": [],
   "source": [
    "eps = 2\n",
    "approx =Approximation(system)\n",
    "system_approx = approx.get_approxiamtion(eps)\n",
    "print(system_approx)"
   ]
  },
  {
   "cell_type": "raw",
   "metadata": {},
   "source": [
    "[np.max(approx.sigmas_anticausal[i]) for i in range(len(approx.sigmas_anticausal))]"
   ]
  },
  {
   "cell_type": "raw",
   "metadata": {},
   "source": [
    "[np.max(approx.sigmas_causal[i]) for i in range(len(approx.sigmas_anticausal))]"
   ]
  },
  {
   "cell_type": "code",
   "execution_count": null,
   "metadata": {},
   "outputs": [],
   "source": [
    "#get system using identifucation\n",
    "S_appr = SystemIdentificationSVD(T,epsilon=eps,relative=False)\n",
    "system_approx_ident = MixedSystem(S_appr)\n",
    "print(system_approx_ident)"
   ]
  },
  {
   "cell_type": "code",
   "execution_count": null,
   "metadata": {},
   "outputs": [],
   "source": [
    "np.max(abs(system_approx_ident.to_matrix()-system_approx.to_matrix()))"
   ]
  },
  {
   "cell_type": "code",
   "execution_count": null,
   "metadata": {},
   "outputs": [],
   "source": []
  }
 ],
 "metadata": {
  "kernelspec": {
   "display_name": "Python 3",
   "language": "python",
   "name": "python3"
  },
  "language_info": {
   "codemirror_mode": {
    "name": "ipython",
    "version": 3
   },
   "file_extension": ".py",
   "mimetype": "text/x-python",
   "name": "python",
   "nbconvert_exporter": "python",
   "pygments_lexer": "ipython3",
   "version": "3.7.12"
  }
 },
 "nbformat": 4,
 "nbformat_minor": 4
}
