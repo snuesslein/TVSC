{
 "cells": [
  {
   "cell_type": "markdown",
   "metadata": {},
   "source": [
    "# Approximations\n",
    "\n",
    "This notebook is on approxiamtions of systems.\n",
    "The balanced truncation algorithm is implemented in the library.\n",
    "\n",
    "The idea of balanced truncation is the idea that in the balanced represantation, we can map each state to a certain singular value of the Hankel matrix.\n",
    "Using this we can remove the states that correspond to singular values $\\sigma_i < \\epsilon$ for some approxiamtion parameter $\\epsilon$. \n",
    "\n",
    "In the library this is done by converting the system to a ordered representation. This is a represantation, that is balanced and the states are ordered, such that the accoring singular values are in decreasing order.\n",
    "When this is done, the singular values of the Hankel operators are computed and stored.\n",
    "Later the states can be removed for different $\\epsilon$s."
   ]
  },
  {
   "cell_type": "code",
   "execution_count": null,
   "metadata": {},
   "outputs": [],
   "source": [
    "import numpy as np\n",
    "from tvsclib.canonical_form import CanonicalForm\n",
    "from tvsclib.mixed_system import MixedSystem\n",
    "from tvsclib.toeplitz_operator import ToeplitzOperator\n",
    "from tvsclib.system_identification_svd import SystemIdentificationSVD\n",
    "from tvsclib.approximation import Approximation\n",
    "import matplotlib.pyplot as plt\n",
    "import tvsclib.utils as utils\n",
    "import tvsclib.math as math\n",
    "import tvsclib.identification as ident"
   ]
  },
  {
   "cell_type": "markdown",
   "metadata": {},
   "source": [
    "## Introductary example\n",
    "First we consider a simple case with only two stages. In this case we only have one Hankel matrix for the causal and anticausal part each.\n",
    "Here we design a matrix such that the Hankel matrices have certian $\\sigma$s"
   ]
  },
  {
   "cell_type": "code",
   "execution_count": null,
   "metadata": {},
   "outputs": [],
   "source": [
    "#create a special matrix \n",
    "n = 10\n",
    "T = np.random.rand(2*n,2*n)\n",
    "Uc, s, Vch = np.linalg.svd(T[n:,:n], full_matrices=True)\n",
    "Ua, s, Vah = np.linalg.svd(T[:n,n:], full_matrices=True)\n",
    "\n",
    "sc = np.linspace(5,0,n)\n",
    "sa = np.linspace(5,0,n)\n",
    "\n",
    "#sc = np.zeros(n)\n",
    "#sa = np.zeros(n)\n",
    "#sc[0]=5\n",
    "#sc[1]=5\n",
    "#sa[0]=5\n",
    "#sa[1]=0\n",
    "\n",
    "T[n:,:n] = Uc*sc@Vch\n",
    "T[:n,n:] = Ua*sa@Vah\n",
    "\n",
    "TOs = ToeplitzOperator(T, [n,n], [n,n])\n",
    "S = SystemIdentificationSVD(TOs,epsilon=1e-10)\n",
    "system = MixedSystem(S)\n",
    "\n",
    "utils.show_system(system)\n",
    "plt.clim(-1.5,1.5)"
   ]
  },
  {
   "cell_type": "markdown",
   "metadata": {},
   "source": [
    "Now we create an approxiamtion object for a system.\n",
    "\n",
    "With the approximation objectm we can access the sigmas of the system:"
   ]
  },
  {
   "cell_type": "code",
   "execution_count": null,
   "metadata": {},
   "outputs": [],
   "source": [
    "approx =Approximation(system)\n",
    "plt.plot(np.arange(len(approx.sigmas_causal[0]))+1,approx.sigmas_causal[0],'x',label=\"causal\")\n",
    "plt.plot(np.arange(len(approx.sigmas_anticausal[0]))+1,approx.sigmas_anticausal[0],'+',label=\"anticasual\")\n",
    "plt.axhline(3,label=r\"$\\epsilon$\")\n",
    "plt.xlabel(\"i\")\n",
    "plt.ylabel(r\"$\\sigma_i$\")\n",
    "plt.legend()"
   ]
  },
  {
   "cell_type": "markdown",
   "metadata": {},
   "source": [
    "Now create a approxiamtion for a certain $\\epsilon$:"
   ]
  },
  {
   "cell_type": "code",
   "execution_count": null,
   "metadata": {},
   "outputs": [],
   "source": [
    "eps = 3\n",
    "\n",
    "approx_system=approx.get_approxiamtion(eps)\n",
    "utils.show_system(approx_system)\n",
    "plt.clim(-1.5,1.5)"
   ]
  },
  {
   "cell_type": "markdown",
   "metadata": {},
   "source": [
    "We can now see that the number of states is reduced. we have as many states as we have $\\sigma_i > \\epsilon$"
   ]
  },
  {
   "cell_type": "code",
   "execution_count": null,
   "metadata": {},
   "outputs": [],
   "source": [
    "print(approx_system)"
   ]
  },
  {
   "cell_type": "code",
   "execution_count": null,
   "metadata": {},
   "outputs": [],
   "source": [
    "#check the system by creating a reference matrix\n",
    "mat_ref = T.copy()\n",
    "nc = np.count_nonzero(sc>eps)\n",
    "na = np.count_nonzero(sa>eps)\n",
    "\n",
    "mat_ref[n:,:n] = Uc[:,:nc]*sc[:nc]@Vch[:nc,:]\n",
    "mat_ref[:n,n:] = Ua[:,:na]*sa[:na]@Vah[:na,:]\n",
    "\n",
    "dif = mat_ref-approx_system.to_matrix()\n",
    "print(np.max(abs(dif))<1e-13)"
   ]
  },
  {
   "cell_type": "markdown",
   "metadata": {},
   "source": [
    "For this simple case we can compute the approxiamtion error exactly for different norms:\n",
    "Here we consider the Frobenius norm $\\|X\\|_2$, the Operator norm  (Spectral norm) $\\|X\\|$ and the Hankel Norm $\\|X\\|_H$\n",
    "\n",
    "The Hankel Norm is defined as the supremum over the Operator norm of each individual Hankel matrix. $$\\|T\\|_H = \\sup_{i}\\|T_i\\|$$\n",
    "\n",
    "These norms all depend on the singular values.\n",
    "If we have a system with two stages the singular values of the difference $T-\\tilde{T}$ are the singular values that got removed during the approximation.\n",
    "\n",
    "Analogously, the singular values of the Hankel matricies of $T-\\tilde{T}$ are again the removed singular values."
   ]
  },
  {
   "cell_type": "code",
   "execution_count": null,
   "metadata": {},
   "outputs": [],
   "source": [
    "delta = T-approx_system.to_matrix()\n",
    "\n",
    "print(\"Frobenius norm:\")\n",
    "print(\"Prediction: \",np.sqrt(np.sum(sc[sc<eps]**2)+np.sum(sa[sa<eps]**2)))\n",
    "print(\"Actual:     \",np.linalg.norm(delta))\n",
    "\n",
    "print(\"Operator norm:\")\n",
    "print(\"Prediction: \",max(np.max(sc[sc<eps]),np.max(sa[sa<eps])))\n",
    "print(\"Actual:     \",np.linalg.norm(delta,ord=2))\n",
    "\n",
    "print(\"Hankel norm:\")\n",
    "print(\"Prediction: \",max(np.max(sc[sc<eps]),np.max(sa[sa<eps])))\n",
    "print(\"Actual:     \",math.hankelnorm(delta,2*[10],2*[10]))"
   ]
  },
  {
   "cell_type": "markdown",
   "metadata": {},
   "source": [
    "## More complex system\n",
    "\n",
    "Usually the systems have more stages. Here it is no longer possible to compute the approxiamtion error, but it can be bounded for the Frobenius and Operator norm.\n",
    "\n",
    "For these Norms we can bound the total approxiamtion error to the sum of the approxiamtion errors for the different stages.\n",
    "\n",
    "For the Operator norm this reduces to the simple bound\n",
    "\n",
    "$$\\|T-\\tilde{T}\\| \\leq (K-1)\\epsilon$$"
   ]
  },
  {
   "cell_type": "code",
   "execution_count": null,
   "metadata": {},
   "outputs": [],
   "source": [
    "dims_in =  [10]*8\n",
    "dims_out = [10]*8\n",
    "matrix = np.random.rand(sum(dims_out), sum(dims_in))\n",
    "\n",
    "system = MixedSystem(S)\n",
    "\n",
    "print(system)"
   ]
  },
  {
   "cell_type": "code",
   "execution_count": null,
   "metadata": {},
   "outputs": [],
   "source": [
    "dims_in =  [10]*8\n",
    "dims_out = [10]*8\n",
    "T = np.random.rand(sum(dims_out), sum(dims_in))\n",
    "system = ident.identify(T, dims_in, dims_out,epsilon=1e-14)\n",
    "\n",
    "print(system)"
   ]
  },
  {
   "cell_type": "code",
   "execution_count": null,
   "metadata": {},
   "outputs": [],
   "source": [
    "eps = 2\n",
    "approx =Approximation(system)\n",
    "system_approx = approx.get_approxiamtion(eps)\n",
    "print(system_approx)"
   ]
  },
  {
   "cell_type": "markdown",
   "metadata": {},
   "source": [
    "The cost for computing the system now has decreased"
   ]
  },
  {
   "cell_type": "code",
   "execution_count": null,
   "metadata": {},
   "outputs": [],
   "source": [
    "print(\"Original:    \",system.cost())\n",
    "print(\"Approximated:\",system_approx.cost())"
   ]
  },
  {
   "cell_type": "markdown",
   "metadata": {},
   "source": [
    "But this has resulted in an approxiamtion error"
   ]
  },
  {
   "cell_type": "code",
   "execution_count": null,
   "metadata": {},
   "outputs": [],
   "source": [
    "delta = T-system_approx.to_matrix()\n",
    "\n",
    "print(\"Frobenius norm:\")\n",
    "print(\"Bound:      \",sum([np.sqrt(np.sum(sc[sc<eps]**2)+np.sum(sa[sa<eps]**2)) for (sc,sa) in zip(approx.sigmas_causal,approx.sigmas_anticausal)]))\n",
    "print(\"Actual:     \",np.linalg.norm(delta))\n",
    "\n",
    "print(\"Operator norm:\")\n",
    "print(\"Bound:      \",eps*(len(system.causal_system.stages)-1))\n",
    "print(\"Actual:     \",np.linalg.norm(delta,ord=2))"
   ]
  },
  {
   "cell_type": "markdown",
   "metadata": {},
   "source": [
    "Now we Obtain the hankel norm of the difference. We will see that $\\|T-\\tilde{T}\\|_H$ is often slighly bigger than $\\epsilon$. "
   ]
  },
  {
   "cell_type": "code",
   "execution_count": null,
   "metadata": {},
   "outputs": [],
   "source": [
    "hankelnorm(system_approx.to_matrix()-system.to_matrix(),dims_in,dims_out)"
   ]
  },
  {
   "cell_type": "code",
   "execution_count": null,
   "metadata": {},
   "outputs": [],
   "source": [
    "#get system using identifucation\n",
    "S_appr = SystemIdentificationSVD(T,epsilon=eps,relative=False)\n",
    "system_approx_ident = MixedSystem(S_appr)\n",
    "print(system_approx_ident)"
   ]
  },
  {
   "cell_type": "code",
   "execution_count": null,
   "metadata": {},
   "outputs": [],
   "source": [
    "np.max(abs(system_approx_ident.to_matrix()-system_approx.to_matrix()))"
   ]
  },
  {
   "cell_type": "code",
   "execution_count": null,
   "metadata": {},
   "outputs": [],
   "source": [
    "hankelnorm(system_approx_ident.to_matrix()-system.to_matrix(),dims_in,dims_out)"
   ]
  },
  {
   "cell_type": "markdown",
   "metadata": {},
   "source": [
    "Note here: It is also possible to obtain more genreal Hankel norm approxiamtions. These sattsify the condition:\n",
    "\n",
    "$$\\| \\Gamma^{-1}(T-\\tilde{T})\\|_H \\leq 1 $$\n",
    "\n",
    "Details on these can be found in [[1](#Dewilde_1998)]"
   ]
  },
  {
   "cell_type": "markdown",
   "metadata": {},
   "source": [
    "[1]:<a id='Dewilde_1998'></a> P. Dewilde and A.-J. van der Veen. Time-Varying Systems and Computations. Jan. 1, 1998. ISBN : 978-0-7923-8189-1. [DOI : 10.1007/978- 1- 4757-\n",
    "2817-0](https://doi.org/10.1007/978-1-4757-2817-0)"
   ]
  },
  {
   "cell_type": "code",
   "execution_count": null,
   "metadata": {},
   "outputs": [],
   "source": []
  }
 ],
 "metadata": {
  "kernelspec": {
   "display_name": "Python 3",
   "language": "python",
   "name": "python3"
  },
  "language_info": {
   "codemirror_mode": {
    "name": "ipython",
    "version": 3
   },
   "file_extension": ".py",
   "mimetype": "text/x-python",
   "name": "python",
   "nbconvert_exporter": "python",
   "pygments_lexer": "ipython3",
   "version": "3.7.12"
  }
 },
 "nbformat": 4,
 "nbformat_minor": 4
}
