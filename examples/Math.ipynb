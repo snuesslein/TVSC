{
 "cells": [
  {
   "cell_type": "markdown",
   "metadata": {},
   "source": [
    "# Math Module\n",
    "\n",
    "The math submodule contians a couple of mathematical functions that are uesfull for computations.\n"
   ]
  },
  {
   "cell_type": "code",
   "execution_count": null,
   "metadata": {},
   "outputs": [],
   "source": [
    "import numpy as np\n",
    "import matplotlib.pyplot as plt\n",
    "import tvsclib.identification as ident\n",
    "import tvsclib.utils as utils\n",
    "import tvsclib.math as math\n",
    "\n",
    "import timeit\n",
    "from tvsclib.approximation import Approximation\n",
    "\n",
    "\n",
    "#create a rank-1 matrix\n",
    "T = np.arange(0,25*5).reshape((-1,1))@np.arange(0,25*5).reshape((1,-1))\n",
    "dims_in =  np.array([25]*5)\n",
    "dims_out = np.array([25]*5)\n",
    "system = ident.identify(T,dims_in,dims_out,epsilon=1e-14)\n",
    "print(system)"
   ]
  },
  {
   "cell_type": "markdown",
   "metadata": {},
   "source": [
    "# Frobenius Norm\n",
    "\n",
    "If we want to compute the Frobenius norm\n",
    "$$\\|A\\|_F = \\sqrt{\\sum_{i,j} A_{i,j}}$$\n",
    "of the trasnfer matrix $T$ we can do this efficiently without explixitly computing the trasnfer matrix.\n",
    "For this we use the formulation \n",
    "$$\\|A\\|_F = \\sqrt{\\mathrm{tr} ( T^\\top T)}= \\sqrt{\\mathrm{tr} (T T^\\top)}$$\n",
    "where the the trace $\\mathrm{tr}$ is the sum over the diagonal entries of the matrix.\n",
    "This approach is described in [[1](#Rice_2010)].\n",
    "\n",
    "Using this we can compute the product of system with its transposed using state space techniques.\n",
    "As we only require the calcaulation of the diagonal elements we can use a recursive algorithm.\n",
    "\n",
    "First we consider a causal system. This the product $T T^\\top$ results in this combined structure:"
   ]
  },
  {
   "cell_type": "markdown",
   "metadata": {},
   "source": [
    "<img src=\"Diagrams/Frobenius.svg\" height=\"500\">"
   ]
  },
  {
   "cell_type": "markdown",
   "metadata": {},
   "source": [
    "Now we can denote the mapping form the state $x_k'$ to $x_k$ as $K_k$ with $x_k = K_k x_k'$. We can now express $K_k$ with the recursive relationship\n",
    "$$k_k = A_nK_{k-1}A_n^\\top + B_k B_k\\top.$$\n",
    "We start with $K_0$ is an empty matrix.\n",
    "Therefore we can express the relation between $u_k$ and $y_k$ with $y_k = (C_k K_{n-1} C_k^\\top + D_kD_k^\\top)u_k$.\n",
    "Using this we can compute the trace of $T T^\\top$ by evaluationg the formula\n",
    "$$\\mathrm{tr}(T T^\\top) = \\sum_{k=0}^K \\mathrm{tr}(C_k K_{n-1} C_k^\\top)+\\mathrm{tr}(D_kD_k^\\top)$$"
   ]
  },
  {
   "cell_type": "markdown",
   "metadata": {},
   "source": [
    "An analogous computation is possible for the anticausal system.\n",
    "\n",
    "For a mixed system we can seperate the sum in the Frobenius norm into\n",
    "$$\\|T\\|_F = \\sqrt{\\sum_{(i,j)}T_{i,j}^2}= \\sqrt{\\sum_{(i,j)\\in \\text{causal part}}T_{i,j}^2+\\sum_{(i,j)\\in \\text{blockdiagonal part}}T_{i,j}^2+\\sum_{(i,j)\\in \\text{anticausal part}}T_{i,j}^2}$$\n",
    "This means that we can compute the squared norms seperateley and can later combine them into the combined norm."
   ]
  },
  {
   "cell_type": "code",
   "execution_count": null,
   "metadata": {},
   "outputs": [],
   "source": [
    "math.frobeniusnorm(system)"
   ]
  },
  {
   "cell_type": "code",
   "execution_count": null,
   "metadata": {},
   "outputs": [],
   "source": [
    "np.linalg.norm(T,\"fro\")"
   ]
  },
  {
   "cell_type": "code",
   "execution_count": null,
   "metadata": {},
   "outputs": [],
   "source": [
    "timeit.timeit(lambda:np.linalg.norm(system.to_matrix()), number=10)"
   ]
  },
  {
   "cell_type": "code",
   "execution_count": null,
   "metadata": {},
   "outputs": [],
   "source": [
    "timeit.timeit(lambda:np.linalg.norm(T), number=10)"
   ]
  },
  {
   "cell_type": "code",
   "execution_count": null,
   "metadata": {},
   "outputs": [],
   "source": [
    "timeit.timeit(lambda:math.frobeniusnorm(system), number=10)"
   ]
  },
  {
   "cell_type": "markdown",
   "metadata": {},
   "source": [
    "## Singular values and Hankel norm\n",
    "\n",
    "If we have a matrei $T$ and want to know the singular valus of the Hankel matricies we can use the function `extract_sigmas`.\n",
    "As this depends on the the input and output dimensins we have to give them to the functions."
   ]
  },
  {
   "cell_type": "code",
   "execution_count": null,
   "metadata": {},
   "outputs": [],
   "source": [
    "math.extract_sigmas(T, dims_in,dims_out)[0][1]"
   ]
  },
  {
   "cell_type": "markdown",
   "metadata": {},
   "source": [
    "We can also compute the Hankel norm\n",
    "\n",
    "$$\\|T\\|_H = \\sup_{i}\\|T_i\\|$$\n",
    "\n",
    "This is the supremum over the spectral norm (the matrix 2-norm) of each individual Hankel matrix.\n",
    "\n",
    "\n",
    "For details see: page 9f and 264ff in [[2](#Dewilde_1998)].\n",
    "\n",
    "Now we compute the Hankelnorm of the matrix and compare it to the $\\sigma$s obtained by the approxiamtion algorithm. We can see that biggest $\\sigma$ is equal to the hankel norm"
   ]
  },
  {
   "cell_type": "code",
   "execution_count": null,
   "metadata": {},
   "outputs": [],
   "source": [
    "math.hankelnorm(T,dims_in,dims_out)"
   ]
  },
  {
   "cell_type": "markdown",
   "metadata": {},
   "source": [
    "If we have already created an system we can directly compute the Hankel norm using the approximation."
   ]
  },
  {
   "cell_type": "code",
   "execution_count": null,
   "metadata": {},
   "outputs": [],
   "source": [
    "approx =Approximation(system)\n",
    "max([np.max(approx.sigmas_anticausal[i]) for i in range(len(approx.sigmas_anticausal))])\n",
    "max([np.max(approx.sigmas_causal[i]) for i in range(len(approx.sigmas_anticausal))])"
   ]
  },
  {
   "cell_type": "markdown",
   "metadata": {},
   "source": [
    "[1]:<a id='Rice 2010'></a> J. K. Rice. “Efficient Algorithms for Distributed Control: A Structured Matrix\n",
    "Approach”. Ph.D. thesis. Technische Universiteit Delft, 2010. URL: https://repository.tudelft.nl/islandora/object/uuid%3A50460cc9-2aba-4db5-b602-5373bb0bc609\n",
    "\n",
    "[2]:<a id='Dewilde_1998'></a> P. Dewilde and A.-J. van der Veen. Time-Varying Systems and Computations. Jan. 1, 1998. ISBN : 978-0-7923-8189-1. [DOI : 10.1007/978- 1- 4757-\n",
    "2817-0](https://doi.org/10.1007/978-1-4757-2817-0)"
   ]
  },
  {
   "cell_type": "code",
   "execution_count": null,
   "metadata": {},
   "outputs": [],
   "source": []
  }
 ],
 "metadata": {
  "kernelspec": {
   "display_name": "Python 3",
   "language": "python",
   "name": "python3"
  },
  "language_info": {
   "codemirror_mode": {
    "name": "ipython",
    "version": 3
   },
   "file_extension": ".py",
   "mimetype": "text/x-python",
   "name": "python",
   "nbconvert_exporter": "python",
   "pygments_lexer": "ipython3",
   "version": "3.7.12"
  }
 },
 "nbformat": 4,
 "nbformat_minor": 4
}
